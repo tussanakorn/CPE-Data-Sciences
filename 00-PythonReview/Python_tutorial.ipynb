{
  "nbformat": 4,
  "nbformat_minor": 0,
  "metadata": {
    "colab": {
      "name": "Python_tutorial.ipynb",
      "provenance": []
    },
    "kernelspec": {
      "display_name": "Python 3",
      "name": "python3"
    },
    "language_info": {
      "name": "python"
    }
  },
  "cells": [
    {
      "cell_type": "code",
      "metadata": {
        "colab": {
          "base_uri": "https://localhost:8080/"
        },
        "id": "P9gyh0Z_OtqA",
        "outputId": "1e909227-6231-472d-86fb-60752598bd48"
      },
      "source": [
        "import sys\n",
        "print(\"max int: \",sys.maxsize)"
      ],
      "execution_count": null,
      "outputs": [
        {
          "output_type": "stream",
          "text": [
            "max int:  9223372036854775807\n"
          ],
          "name": "stdout"
        }
      ]
    },
    {
      "cell_type": "code",
      "metadata": {
        "colab": {
          "base_uri": "https://localhost:8080/",
          "height": 244
        },
        "id": "DpINH7hkeIAH",
        "outputId": "fb26610d-f2c4-4c2d-fb0b-bc712a1010d2"
      },
      "source": [
        "x = (1,2,3,4,5)\n",
        "print(list(x))\n",
        "list = (5,6,7,8,9)\n",
        "print(list)\n",
        "print(list(list))"
      ],
      "execution_count": null,
      "outputs": [
        {
          "output_type": "stream",
          "text": [
            "[1, 2, 3, 4, 5]\n",
            "(5, 6, 7, 8, 9)\n"
          ],
          "name": "stdout"
        },
        {
          "output_type": "error",
          "ename": "TypeError",
          "evalue": "ignored",
          "traceback": [
            "\u001b[0;31m---------------------------------------------------------------------------\u001b[0m",
            "\u001b[0;31mTypeError\u001b[0m                                 Traceback (most recent call last)",
            "\u001b[0;32m<ipython-input-1-b0ba375c3197>\u001b[0m in \u001b[0;36m<module>\u001b[0;34m()\u001b[0m\n\u001b[1;32m      3\u001b[0m \u001b[0mlist\u001b[0m \u001b[0;34m=\u001b[0m \u001b[0;34m(\u001b[0m\u001b[0;36m5\u001b[0m\u001b[0;34m,\u001b[0m\u001b[0;36m6\u001b[0m\u001b[0;34m,\u001b[0m\u001b[0;36m7\u001b[0m\u001b[0;34m,\u001b[0m\u001b[0;36m8\u001b[0m\u001b[0;34m,\u001b[0m\u001b[0;36m9\u001b[0m\u001b[0;34m)\u001b[0m\u001b[0;34m\u001b[0m\u001b[0;34m\u001b[0m\u001b[0m\n\u001b[1;32m      4\u001b[0m \u001b[0mprint\u001b[0m\u001b[0;34m(\u001b[0m\u001b[0mlist\u001b[0m\u001b[0;34m)\u001b[0m\u001b[0;34m\u001b[0m\u001b[0;34m\u001b[0m\u001b[0m\n\u001b[0;32m----> 5\u001b[0;31m \u001b[0mprint\u001b[0m\u001b[0;34m(\u001b[0m\u001b[0mlist\u001b[0m\u001b[0;34m(\u001b[0m\u001b[0mlist\u001b[0m\u001b[0;34m)\u001b[0m\u001b[0;34m)\u001b[0m\u001b[0;34m\u001b[0m\u001b[0;34m\u001b[0m\u001b[0m\n\u001b[0m",
            "\u001b[0;31mTypeError\u001b[0m: 'tuple' object is not callable"
          ]
        }
      ]
    },
    {
      "cell_type": "code",
      "metadata": {
        "colab": {
          "base_uri": "https://localhost:8080/"
        },
        "id": "ib_1CIDAeY1b",
        "outputId": "06de823d-32f0-41a3-d196-03b6dcf936ef"
      },
      "source": [
        "-5//2"
      ],
      "execution_count": null,
      "outputs": [
        {
          "output_type": "execute_result",
          "data": {
            "text/plain": [
              "-3"
            ]
          },
          "metadata": {
            "tags": []
          },
          "execution_count": 12
        }
      ]
    },
    {
      "cell_type": "code",
      "metadata": {
        "colab": {
          "base_uri": "https://localhost:8080/"
        },
        "id": "O8HInlzIgc0W",
        "outputId": "1551ffe4-b162-40f2-9694-5894afeca2c4"
      },
      "source": [
        "#Normal python function\n",
        "def a_name(x):\n",
        "    return x+x\n",
        "#Lambda function\n",
        "lambda x: x+x"
      ],
      "execution_count": null,
      "outputs": [
        {
          "output_type": "execute_result",
          "data": {
            "text/plain": [
              "<function __main__.<lambda>>"
            ]
          },
          "metadata": {
            "tags": []
          },
          "execution_count": 9
        }
      ]
    },
    {
      "cell_type": "code",
      "metadata": {
        "colab": {
          "base_uri": "https://localhost:8080/"
        },
        "id": "VFxxRVrJgqZq",
        "outputId": "4997f20a-95ec-4064-c88b-bbb93da6d118"
      },
      "source": [
        "list_1 = [1,2,3,4,5,6,7,8,9]\n",
        "list(filter(lambda x: x%2==0, list_1))"
      ],
      "execution_count": null,
      "outputs": [
        {
          "output_type": "execute_result",
          "data": {
            "text/plain": [
              "[2, 4, 6, 8]"
            ]
          },
          "metadata": {
            "tags": []
          },
          "execution_count": 10
        }
      ]
    },
    {
      "cell_type": "code",
      "metadata": {
        "id": "XJw4i4VZkpZK"
      },
      "source": [
        "import numpy as np\n",
        "A = np.array([[11, 12, 13],\n",
        "             [21, 22, 23],\n",
        "             [31, 32, 33]])\n",
        "B = np.array([2])"
      ],
      "execution_count": null,
      "outputs": []
    },
    {
      "cell_type": "code",
      "metadata": {
        "colab": {
          "base_uri": "https://localhost:8080/"
        },
        "id": "AxlbnnTOribH",
        "outputId": "d18f5efa-14f9-441e-95db-e6d1fdd6d4cd"
      },
      "source": [
        "B"
      ],
      "execution_count": null,
      "outputs": [
        {
          "output_type": "execute_result",
          "data": {
            "text/plain": [
              "array([2])"
            ]
          },
          "metadata": {
            "tags": []
          },
          "execution_count": 19
        }
      ]
    },
    {
      "cell_type": "code",
      "metadata": {
        "colab": {
          "base_uri": "https://localhost:8080/"
        },
        "id": "zfTmfwTnD_fR",
        "outputId": "bda526a8-2308-497e-de7a-1e398a8acc1a"
      },
      "source": [
        "print(\"Adding two array: \")\n",
        "print(A+B)\n",
        "print(\"Muliply two array: \")\n",
        "print(A*(B+1))"
      ],
      "execution_count": null,
      "outputs": [
        {
          "output_type": "stream",
          "text": [
            "Adding two array: \n",
            "[[13 14 15]\n",
            " [23 24 25]\n",
            " [33 34 35]]\n",
            "Muliply two array: \n",
            "[[33 36 39]\n",
            " [63 66 69]\n",
            " [93 96 99]]\n"
          ],
          "name": "stdout"
        }
      ]
    },
    {
      "cell_type": "code",
      "metadata": {
        "id": "vZdh8QTbEjp3"
      },
      "source": [
        "B = np.ones((3,1))"
      ],
      "execution_count": null,
      "outputs": []
    },
    {
      "cell_type": "markdown",
      "metadata": {
        "id": "2JExb0QuIDQZ"
      },
      "source": [
        "# Datasets\n",
        "- https://www.kaggle.com/c/traveling-santa-2018-prime-paths\n",
        "- https://www.kaggle.com/sidtwr/videogames-sales-dataset\n"
      ]
    },
    {
      "cell_type": "code",
      "metadata": {
        "id": "-E70CgEfb0UK"
      },
      "source": [
        "from google.colab import files\n",
        "files.upload()"
      ],
      "execution_count": null,
      "outputs": []
    },
    {
      "cell_type": "code",
      "metadata": {
        "id": "wX8MYgxtEkM2"
      },
      "source": [
        "import pandas as pd\n",
        "df = pd.read_csv('/content/cities.csv')"
      ],
      "execution_count": null,
      "outputs": []
    },
    {
      "cell_type": "code",
      "metadata": {
        "colab": {
          "base_uri": "https://localhost:8080/",
          "height": 204
        },
        "id": "Wm-HZ0mRbPIX",
        "outputId": "2ca29d9c-0bbc-40fe-b36b-cd90d8155f8e"
      },
      "source": [
        "df.head(5)"
      ],
      "execution_count": null,
      "outputs": [
        {
          "output_type": "execute_result",
          "data": {
            "text/html": [
              "<div>\n",
              "<style scoped>\n",
              "    .dataframe tbody tr th:only-of-type {\n",
              "        vertical-align: middle;\n",
              "    }\n",
              "\n",
              "    .dataframe tbody tr th {\n",
              "        vertical-align: top;\n",
              "    }\n",
              "\n",
              "    .dataframe thead th {\n",
              "        text-align: right;\n",
              "    }\n",
              "</style>\n",
              "<table border=\"1\" class=\"dataframe\">\n",
              "  <thead>\n",
              "    <tr style=\"text-align: right;\">\n",
              "      <th></th>\n",
              "      <th>CityId</th>\n",
              "      <th>X</th>\n",
              "      <th>Y</th>\n",
              "    </tr>\n",
              "  </thead>\n",
              "  <tbody>\n",
              "    <tr>\n",
              "      <th>0</th>\n",
              "      <td>0</td>\n",
              "      <td>316.836739</td>\n",
              "      <td>2202.340707</td>\n",
              "    </tr>\n",
              "    <tr>\n",
              "      <th>1</th>\n",
              "      <td>1</td>\n",
              "      <td>4377.405972</td>\n",
              "      <td>336.602082</td>\n",
              "    </tr>\n",
              "    <tr>\n",
              "      <th>2</th>\n",
              "      <td>2</td>\n",
              "      <td>3454.158198</td>\n",
              "      <td>2820.053011</td>\n",
              "    </tr>\n",
              "    <tr>\n",
              "      <th>3</th>\n",
              "      <td>3</td>\n",
              "      <td>4688.099298</td>\n",
              "      <td>2935.898056</td>\n",
              "    </tr>\n",
              "    <tr>\n",
              "      <th>4</th>\n",
              "      <td>4</td>\n",
              "      <td>1010.696952</td>\n",
              "      <td>3236.750989</td>\n",
              "    </tr>\n",
              "  </tbody>\n",
              "</table>\n",
              "</div>"
            ],
            "text/plain": [
              "   CityId            X            Y\n",
              "0       0   316.836739  2202.340707\n",
              "1       1  4377.405972   336.602082\n",
              "2       2  3454.158198  2820.053011\n",
              "3       3  4688.099298  2935.898056\n",
              "4       4  1010.696952  3236.750989"
            ]
          },
          "metadata": {
            "tags": []
          },
          "execution_count": 3
        }
      ]
    },
    {
      "cell_type": "code",
      "metadata": {
        "colab": {
          "base_uri": "https://localhost:8080/",
          "height": 111
        },
        "id": "1SnCUmxccv9X",
        "outputId": "1acd6dfb-d739-4cc2-9ff0-5f419b659ef4"
      },
      "source": [
        "df.tail(2)"
      ],
      "execution_count": null,
      "outputs": [
        {
          "output_type": "execute_result",
          "data": {
            "text/html": [
              "<div>\n",
              "<style scoped>\n",
              "    .dataframe tbody tr th:only-of-type {\n",
              "        vertical-align: middle;\n",
              "    }\n",
              "\n",
              "    .dataframe tbody tr th {\n",
              "        vertical-align: top;\n",
              "    }\n",
              "\n",
              "    .dataframe thead th {\n",
              "        text-align: right;\n",
              "    }\n",
              "</style>\n",
              "<table border=\"1\" class=\"dataframe\">\n",
              "  <thead>\n",
              "    <tr style=\"text-align: right;\">\n",
              "      <th></th>\n",
              "      <th>CityId</th>\n",
              "      <th>X</th>\n",
              "      <th>Y</th>\n",
              "    </tr>\n",
              "  </thead>\n",
              "  <tbody>\n",
              "    <tr>\n",
              "      <th>74966</th>\n",
              "      <td>74966</td>\n",
              "      <td>4264.198628</td>\n",
              "      <td>401.199773</td>\n",
              "    </tr>\n",
              "    <tr>\n",
              "      <th>74967</th>\n",
              "      <td>74967</td>\n",
              "      <td>4582.301400</td>\n",
              "      <td>NaN</td>\n",
              "    </tr>\n",
              "  </tbody>\n",
              "</table>\n",
              "</div>"
            ],
            "text/plain": [
              "       CityId            X           Y\n",
              "74966   74966  4264.198628  401.199773\n",
              "74967   74967  4582.301400         NaN"
            ]
          },
          "metadata": {
            "tags": []
          },
          "execution_count": 4
        }
      ]
    },
    {
      "cell_type": "code",
      "metadata": {
        "colab": {
          "base_uri": "https://localhost:8080/",
          "height": 297
        },
        "id": "OFaw8Lg1bkBY",
        "outputId": "e4199bc6-7c83-44a0-bb28-22a6a970734c"
      },
      "source": [
        "df.describe()"
      ],
      "execution_count": null,
      "outputs": [
        {
          "output_type": "execute_result",
          "data": {
            "text/html": [
              "<div>\n",
              "<style scoped>\n",
              "    .dataframe tbody tr th:only-of-type {\n",
              "        vertical-align: middle;\n",
              "    }\n",
              "\n",
              "    .dataframe tbody tr th {\n",
              "        vertical-align: top;\n",
              "    }\n",
              "\n",
              "    .dataframe thead th {\n",
              "        text-align: right;\n",
              "    }\n",
              "</style>\n",
              "<table border=\"1\" class=\"dataframe\">\n",
              "  <thead>\n",
              "    <tr style=\"text-align: right;\">\n",
              "      <th></th>\n",
              "      <th>CityId</th>\n",
              "      <th>X</th>\n",
              "      <th>Y</th>\n",
              "    </tr>\n",
              "  </thead>\n",
              "  <tbody>\n",
              "    <tr>\n",
              "      <th>count</th>\n",
              "      <td>74968.000000</td>\n",
              "      <td>74968.000000</td>\n",
              "      <td>74967.000000</td>\n",
              "    </tr>\n",
              "    <tr>\n",
              "      <th>mean</th>\n",
              "      <td>37483.500000</td>\n",
              "      <td>2755.915675</td>\n",
              "      <td>1858.113950</td>\n",
              "    </tr>\n",
              "    <tr>\n",
              "      <th>std</th>\n",
              "      <td>21641.541827</td>\n",
              "      <td>1473.983883</td>\n",
              "      <td>983.266451</td>\n",
              "    </tr>\n",
              "    <tr>\n",
              "      <th>min</th>\n",
              "      <td>0.000000</td>\n",
              "      <td>2.340997</td>\n",
              "      <td>0.000000</td>\n",
              "    </tr>\n",
              "    <tr>\n",
              "      <th>25%</th>\n",
              "      <td>18741.750000</td>\n",
              "      <td>1459.948148</td>\n",
              "      <td>1055.160641</td>\n",
              "    </tr>\n",
              "    <tr>\n",
              "      <th>50%</th>\n",
              "      <td>37483.500000</td>\n",
              "      <td>2789.893238</td>\n",
              "      <td>1945.498004</td>\n",
              "    </tr>\n",
              "    <tr>\n",
              "      <th>75%</th>\n",
              "      <td>56225.250000</td>\n",
              "      <td>4261.285673</td>\n",
              "      <td>2731.096538</td>\n",
              "    </tr>\n",
              "    <tr>\n",
              "      <th>max</th>\n",
              "      <td>74967.000000</td>\n",
              "      <td>5099.059744</td>\n",
              "      <td>3397.809824</td>\n",
              "    </tr>\n",
              "  </tbody>\n",
              "</table>\n",
              "</div>"
            ],
            "text/plain": [
              "             CityId             X             Y\n",
              "count  74968.000000  74968.000000  74967.000000\n",
              "mean   37483.500000   2755.915675   1858.113950\n",
              "std    21641.541827   1473.983883    983.266451\n",
              "min        0.000000      2.340997      0.000000\n",
              "25%    18741.750000   1459.948148   1055.160641\n",
              "50%    37483.500000   2789.893238   1945.498004\n",
              "75%    56225.250000   4261.285673   2731.096538\n",
              "max    74967.000000   5099.059744   3397.809824"
            ]
          },
          "metadata": {
            "tags": []
          },
          "execution_count": 5
        }
      ]
    },
    {
      "cell_type": "code",
      "metadata": {
        "colab": {
          "base_uri": "https://localhost:8080/"
        },
        "id": "2ajQHeKZdABi",
        "outputId": "9e1f3d20-69e3-4b31-bf33-b5a5373e7ea3"
      },
      "source": [
        "df.shape"
      ],
      "execution_count": null,
      "outputs": [
        {
          "output_type": "execute_result",
          "data": {
            "text/plain": [
              "(74968, 3)"
            ]
          },
          "metadata": {
            "tags": []
          },
          "execution_count": 6
        }
      ]
    },
    {
      "cell_type": "code",
      "metadata": {
        "colab": {
          "base_uri": "https://localhost:8080/",
          "height": 419
        },
        "id": "Raz7n1MmdHDJ",
        "outputId": "5d476a77-27ea-4555-b738-c3df751ca2d4"
      },
      "source": [
        "df.sort_values(by = [\"X\"])"
      ],
      "execution_count": null,
      "outputs": [
        {
          "output_type": "execute_result",
          "data": {
            "text/html": [
              "<div>\n",
              "<style scoped>\n",
              "    .dataframe tbody tr th:only-of-type {\n",
              "        vertical-align: middle;\n",
              "    }\n",
              "\n",
              "    .dataframe tbody tr th {\n",
              "        vertical-align: top;\n",
              "    }\n",
              "\n",
              "    .dataframe thead th {\n",
              "        text-align: right;\n",
              "    }\n",
              "</style>\n",
              "<table border=\"1\" class=\"dataframe\">\n",
              "  <thead>\n",
              "    <tr style=\"text-align: right;\">\n",
              "      <th></th>\n",
              "      <th>CityId</th>\n",
              "      <th>X</th>\n",
              "      <th>Y</th>\n",
              "    </tr>\n",
              "  </thead>\n",
              "  <tbody>\n",
              "    <tr>\n",
              "      <th>44820</th>\n",
              "      <td>44820</td>\n",
              "      <td>2.340997</td>\n",
              "      <td>3056.343573</td>\n",
              "    </tr>\n",
              "    <tr>\n",
              "      <th>58641</th>\n",
              "      <td>58641</td>\n",
              "      <td>2.391771</td>\n",
              "      <td>2695.674674</td>\n",
              "    </tr>\n",
              "    <tr>\n",
              "      <th>67891</th>\n",
              "      <td>67891</td>\n",
              "      <td>2.469880</td>\n",
              "      <td>3052.124153</td>\n",
              "    </tr>\n",
              "    <tr>\n",
              "      <th>10239</th>\n",
              "      <td>10239</td>\n",
              "      <td>2.487152</td>\n",
              "      <td>2120.310009</td>\n",
              "    </tr>\n",
              "    <tr>\n",
              "      <th>25455</th>\n",
              "      <td>25455</td>\n",
              "      <td>2.955978</td>\n",
              "      <td>2348.140285</td>\n",
              "    </tr>\n",
              "    <tr>\n",
              "      <th>...</th>\n",
              "      <td>...</td>\n",
              "      <td>...</td>\n",
              "      <td>...</td>\n",
              "    </tr>\n",
              "    <tr>\n",
              "      <th>40532</th>\n",
              "      <td>40532</td>\n",
              "      <td>5098.641259</td>\n",
              "      <td>2820.478026</td>\n",
              "    </tr>\n",
              "    <tr>\n",
              "      <th>641</th>\n",
              "      <td>641</td>\n",
              "      <td>5098.701331</td>\n",
              "      <td>3341.883299</td>\n",
              "    </tr>\n",
              "    <tr>\n",
              "      <th>25782</th>\n",
              "      <td>25782</td>\n",
              "      <td>5098.789788</td>\n",
              "      <td>3385.469073</td>\n",
              "    </tr>\n",
              "    <tr>\n",
              "      <th>20190</th>\n",
              "      <td>20190</td>\n",
              "      <td>5098.939175</td>\n",
              "      <td>2428.838560</td>\n",
              "    </tr>\n",
              "    <tr>\n",
              "      <th>55405</th>\n",
              "      <td>55405</td>\n",
              "      <td>5099.059744</td>\n",
              "      <td>2683.246735</td>\n",
              "    </tr>\n",
              "  </tbody>\n",
              "</table>\n",
              "<p>74968 rows × 3 columns</p>\n",
              "</div>"
            ],
            "text/plain": [
              "       CityId            X            Y\n",
              "44820   44820     2.340997  3056.343573\n",
              "58641   58641     2.391771  2695.674674\n",
              "67891   67891     2.469880  3052.124153\n",
              "10239   10239     2.487152  2120.310009\n",
              "25455   25455     2.955978  2348.140285\n",
              "...       ...          ...          ...\n",
              "40532   40532  5098.641259  2820.478026\n",
              "641       641  5098.701331  3341.883299\n",
              "25782   25782  5098.789788  3385.469073\n",
              "20190   20190  5098.939175  2428.838560\n",
              "55405   55405  5099.059744  2683.246735\n",
              "\n",
              "[74968 rows x 3 columns]"
            ]
          },
          "metadata": {
            "tags": []
          },
          "execution_count": 7
        }
      ]
    },
    {
      "cell_type": "code",
      "metadata": {
        "colab": {
          "base_uri": "https://localhost:8080/",
          "height": 419
        },
        "id": "LcHISKq3dVYd",
        "outputId": "6b129872-b022-4e9e-d68f-3548418b64b7"
      },
      "source": [
        "df"
      ],
      "execution_count": null,
      "outputs": [
        {
          "output_type": "execute_result",
          "data": {
            "text/html": [
              "<div>\n",
              "<style scoped>\n",
              "    .dataframe tbody tr th:only-of-type {\n",
              "        vertical-align: middle;\n",
              "    }\n",
              "\n",
              "    .dataframe tbody tr th {\n",
              "        vertical-align: top;\n",
              "    }\n",
              "\n",
              "    .dataframe thead th {\n",
              "        text-align: right;\n",
              "    }\n",
              "</style>\n",
              "<table border=\"1\" class=\"dataframe\">\n",
              "  <thead>\n",
              "    <tr style=\"text-align: right;\">\n",
              "      <th></th>\n",
              "      <th>CityId</th>\n",
              "      <th>X</th>\n",
              "      <th>Y</th>\n",
              "    </tr>\n",
              "  </thead>\n",
              "  <tbody>\n",
              "    <tr>\n",
              "      <th>0</th>\n",
              "      <td>0</td>\n",
              "      <td>316.836739</td>\n",
              "      <td>2202.340707</td>\n",
              "    </tr>\n",
              "    <tr>\n",
              "      <th>1</th>\n",
              "      <td>1</td>\n",
              "      <td>4377.405972</td>\n",
              "      <td>336.602082</td>\n",
              "    </tr>\n",
              "    <tr>\n",
              "      <th>2</th>\n",
              "      <td>2</td>\n",
              "      <td>3454.158198</td>\n",
              "      <td>2820.053011</td>\n",
              "    </tr>\n",
              "    <tr>\n",
              "      <th>3</th>\n",
              "      <td>3</td>\n",
              "      <td>4688.099298</td>\n",
              "      <td>2935.898056</td>\n",
              "    </tr>\n",
              "    <tr>\n",
              "      <th>4</th>\n",
              "      <td>4</td>\n",
              "      <td>1010.696952</td>\n",
              "      <td>3236.750989</td>\n",
              "    </tr>\n",
              "    <tr>\n",
              "      <th>...</th>\n",
              "      <td>...</td>\n",
              "      <td>...</td>\n",
              "      <td>...</td>\n",
              "    </tr>\n",
              "    <tr>\n",
              "      <th>74963</th>\n",
              "      <td>74963</td>\n",
              "      <td>866.602086</td>\n",
              "      <td>442.773279</td>\n",
              "    </tr>\n",
              "    <tr>\n",
              "      <th>74964</th>\n",
              "      <td>74964</td>\n",
              "      <td>2733.077396</td>\n",
              "      <td>1891.923584</td>\n",
              "    </tr>\n",
              "    <tr>\n",
              "      <th>74965</th>\n",
              "      <td>74965</td>\n",
              "      <td>1011.271557</td>\n",
              "      <td>3374.256794</td>\n",
              "    </tr>\n",
              "    <tr>\n",
              "      <th>74966</th>\n",
              "      <td>74966</td>\n",
              "      <td>4264.198628</td>\n",
              "      <td>401.199773</td>\n",
              "    </tr>\n",
              "    <tr>\n",
              "      <th>74967</th>\n",
              "      <td>74967</td>\n",
              "      <td>4582.301400</td>\n",
              "      <td>NaN</td>\n",
              "    </tr>\n",
              "  </tbody>\n",
              "</table>\n",
              "<p>74968 rows × 3 columns</p>\n",
              "</div>"
            ],
            "text/plain": [
              "       CityId            X            Y\n",
              "0           0   316.836739  2202.340707\n",
              "1           1  4377.405972   336.602082\n",
              "2           2  3454.158198  2820.053011\n",
              "3           3  4688.099298  2935.898056\n",
              "4           4  1010.696952  3236.750989\n",
              "...       ...          ...          ...\n",
              "74963   74963   866.602086   442.773279\n",
              "74964   74964  2733.077396  1891.923584\n",
              "74965   74965  1011.271557  3374.256794\n",
              "74966   74966  4264.198628   401.199773\n",
              "74967   74967  4582.301400          NaN\n",
              "\n",
              "[74968 rows x 3 columns]"
            ]
          },
          "metadata": {
            "tags": []
          },
          "execution_count": 8
        }
      ]
    },
    {
      "cell_type": "code",
      "metadata": {
        "colab": {
          "base_uri": "https://localhost:8080/",
          "height": 419
        },
        "id": "e8dCzi8IeKHL",
        "outputId": "9dbbfdf4-3713-43d1-ff36-8a1ec383e7aa"
      },
      "source": [
        "df[[\"X\",\"Y\"]]"
      ],
      "execution_count": null,
      "outputs": [
        {
          "output_type": "execute_result",
          "data": {
            "text/html": [
              "<div>\n",
              "<style scoped>\n",
              "    .dataframe tbody tr th:only-of-type {\n",
              "        vertical-align: middle;\n",
              "    }\n",
              "\n",
              "    .dataframe tbody tr th {\n",
              "        vertical-align: top;\n",
              "    }\n",
              "\n",
              "    .dataframe thead th {\n",
              "        text-align: right;\n",
              "    }\n",
              "</style>\n",
              "<table border=\"1\" class=\"dataframe\">\n",
              "  <thead>\n",
              "    <tr style=\"text-align: right;\">\n",
              "      <th></th>\n",
              "      <th>X</th>\n",
              "      <th>Y</th>\n",
              "    </tr>\n",
              "  </thead>\n",
              "  <tbody>\n",
              "    <tr>\n",
              "      <th>0</th>\n",
              "      <td>316.836739</td>\n",
              "      <td>2202.340707</td>\n",
              "    </tr>\n",
              "    <tr>\n",
              "      <th>1</th>\n",
              "      <td>4377.405972</td>\n",
              "      <td>336.602082</td>\n",
              "    </tr>\n",
              "    <tr>\n",
              "      <th>2</th>\n",
              "      <td>3454.158198</td>\n",
              "      <td>2820.053011</td>\n",
              "    </tr>\n",
              "    <tr>\n",
              "      <th>3</th>\n",
              "      <td>4688.099298</td>\n",
              "      <td>2935.898056</td>\n",
              "    </tr>\n",
              "    <tr>\n",
              "      <th>4</th>\n",
              "      <td>1010.696952</td>\n",
              "      <td>3236.750989</td>\n",
              "    </tr>\n",
              "    <tr>\n",
              "      <th>...</th>\n",
              "      <td>...</td>\n",
              "      <td>...</td>\n",
              "    </tr>\n",
              "    <tr>\n",
              "      <th>74963</th>\n",
              "      <td>866.602086</td>\n",
              "      <td>442.773279</td>\n",
              "    </tr>\n",
              "    <tr>\n",
              "      <th>74964</th>\n",
              "      <td>2733.077396</td>\n",
              "      <td>1891.923584</td>\n",
              "    </tr>\n",
              "    <tr>\n",
              "      <th>74965</th>\n",
              "      <td>1011.271557</td>\n",
              "      <td>3374.256794</td>\n",
              "    </tr>\n",
              "    <tr>\n",
              "      <th>74966</th>\n",
              "      <td>4264.198628</td>\n",
              "      <td>401.199773</td>\n",
              "    </tr>\n",
              "    <tr>\n",
              "      <th>74967</th>\n",
              "      <td>4582.301400</td>\n",
              "      <td>NaN</td>\n",
              "    </tr>\n",
              "  </tbody>\n",
              "</table>\n",
              "<p>74968 rows × 2 columns</p>\n",
              "</div>"
            ],
            "text/plain": [
              "                 X            Y\n",
              "0       316.836739  2202.340707\n",
              "1      4377.405972   336.602082\n",
              "2      3454.158198  2820.053011\n",
              "3      4688.099298  2935.898056\n",
              "4      1010.696952  3236.750989\n",
              "...            ...          ...\n",
              "74963   866.602086   442.773279\n",
              "74964  2733.077396  1891.923584\n",
              "74965  1011.271557  3374.256794\n",
              "74966  4264.198628   401.199773\n",
              "74967  4582.301400          NaN\n",
              "\n",
              "[74968 rows x 2 columns]"
            ]
          },
          "metadata": {
            "tags": []
          },
          "execution_count": 9
        }
      ]
    },
    {
      "cell_type": "code",
      "metadata": {
        "colab": {
          "base_uri": "https://localhost:8080/"
        },
        "id": "ypw0eNMAeNAn",
        "outputId": "851b45d0-7d09-43f2-80e3-dd02e1f74ccb"
      },
      "source": [
        "df[\"X\"].apply(lambda x: x/10)"
      ],
      "execution_count": null,
      "outputs": [
        {
          "output_type": "execute_result",
          "data": {
            "text/plain": [
              "0         31.683674\n",
              "1        437.740597\n",
              "2        345.415820\n",
              "3        468.809930\n",
              "4        101.069695\n",
              "            ...    \n",
              "74963     86.660209\n",
              "74964    273.307740\n",
              "74965    101.127156\n",
              "74966    426.419863\n",
              "74967    458.230140\n",
              "Name: X, Length: 74968, dtype: float64"
            ]
          },
          "metadata": {
            "tags": []
          },
          "execution_count": 10
        }
      ]
    },
    {
      "cell_type": "code",
      "metadata": {
        "colab": {
          "base_uri": "https://localhost:8080/"
        },
        "id": "5_aQjNpjfI16",
        "outputId": "91bec6e8-9b3b-4f48-81f5-4d222ba48808"
      },
      "source": [
        "def example_(num):\n",
        "  return num**2\n",
        "\n",
        "df[\"X\"].apply(lambda x: example_(x))"
      ],
      "execution_count": null,
      "outputs": [
        {
          "output_type": "execute_result",
          "data": {
            "text/plain": [
              "0        1.003855e+05\n",
              "1        1.916168e+07\n",
              "2        1.193121e+07\n",
              "3        2.197828e+07\n",
              "4        1.021508e+06\n",
              "             ...     \n",
              "74963    7.509992e+05\n",
              "74964    7.469712e+06\n",
              "74965    1.022670e+06\n",
              "74966    1.818339e+07\n",
              "74967    2.099749e+07\n",
              "Name: X, Length: 74968, dtype: float64"
            ]
          },
          "metadata": {
            "tags": []
          },
          "execution_count": 11
        }
      ]
    },
    {
      "cell_type": "code",
      "metadata": {
        "id": "K7hlieaqgUTH"
      },
      "source": [
        "import numpy as np"
      ],
      "execution_count": null,
      "outputs": []
    },
    {
      "cell_type": "code",
      "metadata": {
        "id": "2EMH_pxXfDr1"
      },
      "source": [
        "df2 = df.transform({\"X\": np.log, \"CityId\": lambda z: z% 10 })"
      ],
      "execution_count": null,
      "outputs": []
    },
    {
      "cell_type": "code",
      "metadata": {
        "colab": {
          "base_uri": "https://localhost:8080/",
          "height": 244
        },
        "id": "hiiOksJagTZ7",
        "outputId": "a21fecc9-c253-4982-be99-4bdcabfd7c0a"
      },
      "source": [
        "df2[\"CityId\"].plot(kind =\"box\", figsize=(4,3),title=\"example\")"
      ],
      "execution_count": null,
      "outputs": [
        {
          "output_type": "execute_result",
          "data": {
            "text/plain": [
              "<matplotlib.axes._subplots.AxesSubplot at 0x7f47f106f590>"
            ]
          },
          "metadata": {
            "tags": []
          },
          "execution_count": 14
        },
        {
          "output_type": "display_data",
          "data": {
            "image/png": "[encoded data removed]",
            "text/plain": [
              "<Figure size 288x216 with 1 Axes>"
            ]
          },
          "metadata": {
            "tags": [],
            "needs_background": "light"
          }
        }
      ]
    },
    {
      "cell_type": "markdown",
      "metadata": {
        "id": "OvLjCbc7uZpX"
      },
      "source": [
        "# Real data"
      ]
    },
    {
      "cell_type": "code",
      "metadata": {
        "colab": {
          "base_uri": "https://localhost:8080/"
        },
        "id": "FehrPHJ9h0ls",
        "outputId": "03165bdb-9b43-498f-e151-37faf927bd31"
      },
      "source": [
        "from google.colab import drive\n",
        "drive.mount('/content/drive')"
      ],
      "execution_count": null,
      "outputs": [
        {
          "output_type": "stream",
          "text": [
            "Mounted at /content/drive\n"
          ],
          "name": "stdout"
        }
      ]
    },
    {
      "cell_type": "code",
      "metadata": {
        "colab": {
          "base_uri": "https://localhost:8080/"
        },
        "id": "EUOOLuiwueDx",
        "outputId": "5af761e8-d241-45bc-b34d-d9d734a28314"
      },
      "source": [
        "cd /content/drive/My\\ Drive/Example_python_tutorial"
      ],
      "execution_count": null,
      "outputs": [
        {
          "output_type": "stream",
          "text": [
            "/content/drive/My Drive/Example_python_tutorial\n"
          ],
          "name": "stdout"
        }
      ]
    },
    {
      "cell_type": "code",
      "metadata": {
        "id": "-LHjepz4uwF9"
      },
      "source": [
        "import matplotlib.pyplot as plt\n",
        "import seaborn as sns\n",
        "import pandas as pd\n",
        "import numpy as np"
      ],
      "execution_count": null,
      "outputs": []
    },
    {
      "cell_type": "code",
      "metadata": {
        "colab": {
          "base_uri": "https://localhost:8080/",
          "height": 204
        },
        "id": "H2nhEc0BvATs",
        "outputId": "91b58ab2-6819-4510-ae70-3ef6845aa504"
      },
      "source": [
        "df = pd.read_csv('/content/Video_Games_Sales_as_at_22_Dec_2016.csv')\n",
        "df = df.drop(columns=['Critic_Score', 'Critic_Count','User_Score', 'User_Count','Developer','Rating'])\n",
        "df = df.rename(columns={'Year_of_Release':'Year'})\n",
        "df.head(5)"
      ],
      "execution_count": null,
      "outputs": [
        {
          "output_type": "execute_result",
          "data": {
            "text/html": [
              "<div>\n",
              "<style scoped>\n",
              "    .dataframe tbody tr th:only-of-type {\n",
              "        vertical-align: middle;\n",
              "    }\n",
              "\n",
              "    .dataframe tbody tr th {\n",
              "        vertical-align: top;\n",
              "    }\n",
              "\n",
              "    .dataframe thead th {\n",
              "        text-align: right;\n",
              "    }\n",
              "</style>\n",
              "<table border=\"1\" class=\"dataframe\">\n",
              "  <thead>\n",
              "    <tr style=\"text-align: right;\">\n",
              "      <th></th>\n",
              "      <th>Name</th>\n",
              "      <th>Platform</th>\n",
              "      <th>Year</th>\n",
              "      <th>Genre</th>\n",
              "      <th>Publisher</th>\n",
              "      <th>NA_Sales</th>\n",
              "      <th>EU_Sales</th>\n",
              "      <th>JP_Sales</th>\n",
              "      <th>Other_Sales</th>\n",
              "      <th>Global_Sales</th>\n",
              "    </tr>\n",
              "  </thead>\n",
              "  <tbody>\n",
              "    <tr>\n",
              "      <th>0</th>\n",
              "      <td>Wii Sports</td>\n",
              "      <td>Wii</td>\n",
              "      <td>2006.0</td>\n",
              "      <td>Sports</td>\n",
              "      <td>Nintendo</td>\n",
              "      <td>41.36</td>\n",
              "      <td>28.96</td>\n",
              "      <td>3.77</td>\n",
              "      <td>8.45</td>\n",
              "      <td>82.53</td>\n",
              "    </tr>\n",
              "    <tr>\n",
              "      <th>1</th>\n",
              "      <td>Super Mario Bros.</td>\n",
              "      <td>NES</td>\n",
              "      <td>1985.0</td>\n",
              "      <td>Platform</td>\n",
              "      <td>Nintendo</td>\n",
              "      <td>29.08</td>\n",
              "      <td>3.58</td>\n",
              "      <td>6.81</td>\n",
              "      <td>0.77</td>\n",
              "      <td>40.24</td>\n",
              "    </tr>\n",
              "    <tr>\n",
              "      <th>2</th>\n",
              "      <td>Mario Kart Wii</td>\n",
              "      <td>Wii</td>\n",
              "      <td>2008.0</td>\n",
              "      <td>Racing</td>\n",
              "      <td>Nintendo</td>\n",
              "      <td>15.68</td>\n",
              "      <td>12.76</td>\n",
              "      <td>3.79</td>\n",
              "      <td>3.29</td>\n",
              "      <td>35.52</td>\n",
              "    </tr>\n",
              "    <tr>\n",
              "      <th>3</th>\n",
              "      <td>Wii Sports Resort</td>\n",
              "      <td>Wii</td>\n",
              "      <td>2009.0</td>\n",
              "      <td>Sports</td>\n",
              "      <td>Nintendo</td>\n",
              "      <td>15.61</td>\n",
              "      <td>10.93</td>\n",
              "      <td>3.28</td>\n",
              "      <td>2.95</td>\n",
              "      <td>32.77</td>\n",
              "    </tr>\n",
              "    <tr>\n",
              "      <th>4</th>\n",
              "      <td>Pokemon Red/Pokemon Blue</td>\n",
              "      <td>GB</td>\n",
              "      <td>1996.0</td>\n",
              "      <td>Role-Playing</td>\n",
              "      <td>Nintendo</td>\n",
              "      <td>11.27</td>\n",
              "      <td>8.89</td>\n",
              "      <td>10.22</td>\n",
              "      <td>1.00</td>\n",
              "      <td>31.37</td>\n",
              "    </tr>\n",
              "  </tbody>\n",
              "</table>\n",
              "</div>"
            ],
            "text/plain": [
              "                       Name Platform  ...  Other_Sales Global_Sales\n",
              "0                Wii Sports      Wii  ...         8.45        82.53\n",
              "1         Super Mario Bros.      NES  ...         0.77        40.24\n",
              "2            Mario Kart Wii      Wii  ...         3.29        35.52\n",
              "3         Wii Sports Resort      Wii  ...         2.95        32.77\n",
              "4  Pokemon Red/Pokemon Blue       GB  ...         1.00        31.37\n",
              "\n",
              "[5 rows x 10 columns]"
            ]
          },
          "metadata": {
            "tags": []
          },
          "execution_count": 17
        }
      ]
    },
    {
      "cell_type": "code",
      "metadata": {
        "id": "9-ON93Hc8687"
      },
      "source": [
        "temp = df.loc[df[\"Publisher\"] =='Nintendo']"
      ],
      "execution_count": null,
      "outputs": []
    },
    {
      "cell_type": "code",
      "metadata": {
        "colab": {
          "base_uri": "https://localhost:8080/",
          "height": 131
        },
        "id": "cDa4zGXR5oCu",
        "outputId": "6141e1c2-ade2-4d6f-fa5d-1fc51ef953f5"
      },
      "source": [
        "temp.groupby(['Publisher','Year']).NA_Sales.sum().reset_index().pivot(index='Publisher',columns='Year',values='NA_Sales')"
      ],
      "execution_count": null,
      "outputs": [
        {
          "output_type": "execute_result",
          "data": {
            "text/html": [
              "<div>\n",
              "<style scoped>\n",
              "    .dataframe tbody tr th:only-of-type {\n",
              "        vertical-align: middle;\n",
              "    }\n",
              "\n",
              "    .dataframe tbody tr th {\n",
              "        vertical-align: top;\n",
              "    }\n",
              "\n",
              "    .dataframe thead th {\n",
              "        text-align: right;\n",
              "    }\n",
              "</style>\n",
              "<table border=\"1\" class=\"dataframe\">\n",
              "  <thead>\n",
              "    <tr style=\"text-align: right;\">\n",
              "      <th>Year</th>\n",
              "      <th>1983.0</th>\n",
              "      <th>1984.0</th>\n",
              "      <th>1985.0</th>\n",
              "      <th>1986.0</th>\n",
              "      <th>1987.0</th>\n",
              "      <th>1988.0</th>\n",
              "      <th>1989.0</th>\n",
              "      <th>1990.0</th>\n",
              "      <th>1991.0</th>\n",
              "      <th>1992.0</th>\n",
              "      <th>1993.0</th>\n",
              "      <th>1994.0</th>\n",
              "      <th>1995.0</th>\n",
              "      <th>1996.0</th>\n",
              "      <th>1997.0</th>\n",
              "      <th>1998.0</th>\n",
              "      <th>1999.0</th>\n",
              "      <th>2000.0</th>\n",
              "      <th>2001.0</th>\n",
              "      <th>2002.0</th>\n",
              "      <th>2003.0</th>\n",
              "      <th>2004.0</th>\n",
              "      <th>2005.0</th>\n",
              "      <th>2006.0</th>\n",
              "      <th>2007.0</th>\n",
              "      <th>2008.0</th>\n",
              "      <th>2009.0</th>\n",
              "      <th>2010.0</th>\n",
              "      <th>2011.0</th>\n",
              "      <th>2012.0</th>\n",
              "      <th>2013.0</th>\n",
              "      <th>2014.0</th>\n",
              "      <th>2015.0</th>\n",
              "      <th>2016.0</th>\n",
              "    </tr>\n",
              "    <tr>\n",
              "      <th>Publisher</th>\n",
              "      <th></th>\n",
              "      <th></th>\n",
              "      <th></th>\n",
              "      <th></th>\n",
              "      <th></th>\n",
              "      <th></th>\n",
              "      <th></th>\n",
              "      <th></th>\n",
              "      <th></th>\n",
              "      <th></th>\n",
              "      <th></th>\n",
              "      <th></th>\n",
              "      <th></th>\n",
              "      <th></th>\n",
              "      <th></th>\n",
              "      <th></th>\n",
              "      <th></th>\n",
              "      <th></th>\n",
              "      <th></th>\n",
              "      <th></th>\n",
              "      <th></th>\n",
              "      <th></th>\n",
              "      <th></th>\n",
              "      <th></th>\n",
              "      <th></th>\n",
              "      <th></th>\n",
              "      <th></th>\n",
              "      <th></th>\n",
              "      <th></th>\n",
              "      <th></th>\n",
              "      <th></th>\n",
              "      <th></th>\n",
              "      <th></th>\n",
              "      <th></th>\n",
              "    </tr>\n",
              "  </thead>\n",
              "  <tbody>\n",
              "    <tr>\n",
              "      <th>Nintendo</th>\n",
              "      <td>2.32</td>\n",
              "      <td>32.57</td>\n",
              "      <td>32.48</td>\n",
              "      <td>6.73</td>\n",
              "      <td>5.13</td>\n",
              "      <td>21.23</td>\n",
              "      <td>39.81</td>\n",
              "      <td>19.75</td>\n",
              "      <td>6.95</td>\n",
              "      <td>18.48</td>\n",
              "      <td>9.53</td>\n",
              "      <td>10.96</td>\n",
              "      <td>6.7</td>\n",
              "      <td>34.54</td>\n",
              "      <td>15.8</td>\n",
              "      <td>23.42</td>\n",
              "      <td>34.18</td>\n",
              "      <td>15.0</td>\n",
              "      <td>23.84</td>\n",
              "      <td>25.05</td>\n",
              "      <td>20.15</td>\n",
              "      <td>28.22</td>\n",
              "      <td>44.76</td>\n",
              "      <td>89.74</td>\n",
              "      <td>42.21</td>\n",
              "      <td>38.14</td>\n",
              "      <td>52.44</td>\n",
              "      <td>23.56</td>\n",
              "      <td>20.3</td>\n",
              "      <td>20.56</td>\n",
              "      <td>19.09</td>\n",
              "      <td>18.11</td>\n",
              "      <td>9.51</td>\n",
              "      <td>4.6</td>\n",
              "    </tr>\n",
              "  </tbody>\n",
              "</table>\n",
              "</div>"
            ],
            "text/plain": [
              "Year       1983.0  1984.0  1985.0  1986.0  ...  2013.0  2014.0  2015.0  2016.0\n",
              "Publisher                                  ...                                \n",
              "Nintendo     2.32   32.57   32.48    6.73  ...   19.09   18.11    9.51     4.6\n",
              "\n",
              "[1 rows x 34 columns]"
            ]
          },
          "metadata": {
            "tags": []
          },
          "execution_count": 19
        }
      ]
    },
    {
      "cell_type": "code",
      "metadata": {
        "colab": {
          "base_uri": "https://localhost:8080/"
        },
        "id": "7amhnMUQvFEy",
        "outputId": "f6f5835c-4f83-4a73-94a5-a77bf241ecb1"
      },
      "source": [
        "df.info()"
      ],
      "execution_count": null,
      "outputs": [
        {
          "output_type": "stream",
          "text": [
            "<class 'pandas.core.frame.DataFrame'>\n",
            "RangeIndex: 16719 entries, 0 to 16718\n",
            "Data columns (total 10 columns):\n",
            " #   Column        Non-Null Count  Dtype  \n",
            "---  ------        --------------  -----  \n",
            " 0   Name          16717 non-null  object \n",
            " 1   Platform      16719 non-null  object \n",
            " 2   Year          16450 non-null  float64\n",
            " 3   Genre         16717 non-null  object \n",
            " 4   Publisher     16665 non-null  object \n",
            " 5   NA_Sales      16719 non-null  float64\n",
            " 6   EU_Sales      16719 non-null  float64\n",
            " 7   JP_Sales      16719 non-null  float64\n",
            " 8   Other_Sales   16719 non-null  float64\n",
            " 9   Global_Sales  16719 non-null  float64\n",
            "dtypes: float64(6), object(4)\n",
            "memory usage: 1.3+ MB\n"
          ],
          "name": "stdout"
        }
      ]
    },
    {
      "cell_type": "code",
      "metadata": {
        "colab": {
          "base_uri": "https://localhost:8080/",
          "height": 297
        },
        "id": "WMpqY3M4vJjP",
        "outputId": "dcae9756-f546-49a4-b3fa-944d554d705d"
      },
      "source": [
        "df.describe()"
      ],
      "execution_count": null,
      "outputs": [
        {
          "output_type": "execute_result",
          "data": {
            "text/html": [
              "<div>\n",
              "<style scoped>\n",
              "    .dataframe tbody tr th:only-of-type {\n",
              "        vertical-align: middle;\n",
              "    }\n",
              "\n",
              "    .dataframe tbody tr th {\n",
              "        vertical-align: top;\n",
              "    }\n",
              "\n",
              "    .dataframe thead th {\n",
              "        text-align: right;\n",
              "    }\n",
              "</style>\n",
              "<table border=\"1\" class=\"dataframe\">\n",
              "  <thead>\n",
              "    <tr style=\"text-align: right;\">\n",
              "      <th></th>\n",
              "      <th>Year</th>\n",
              "      <th>NA_Sales</th>\n",
              "      <th>EU_Sales</th>\n",
              "      <th>JP_Sales</th>\n",
              "      <th>Other_Sales</th>\n",
              "      <th>Global_Sales</th>\n",
              "    </tr>\n",
              "  </thead>\n",
              "  <tbody>\n",
              "    <tr>\n",
              "      <th>count</th>\n",
              "      <td>16450.000000</td>\n",
              "      <td>16719.000000</td>\n",
              "      <td>16719.000000</td>\n",
              "      <td>16719.000000</td>\n",
              "      <td>16719.000000</td>\n",
              "      <td>16719.000000</td>\n",
              "    </tr>\n",
              "    <tr>\n",
              "      <th>mean</th>\n",
              "      <td>2006.487356</td>\n",
              "      <td>0.263330</td>\n",
              "      <td>0.145025</td>\n",
              "      <td>0.077602</td>\n",
              "      <td>0.047332</td>\n",
              "      <td>0.533543</td>\n",
              "    </tr>\n",
              "    <tr>\n",
              "      <th>std</th>\n",
              "      <td>5.878995</td>\n",
              "      <td>0.813514</td>\n",
              "      <td>0.503283</td>\n",
              "      <td>0.308818</td>\n",
              "      <td>0.186710</td>\n",
              "      <td>1.547935</td>\n",
              "    </tr>\n",
              "    <tr>\n",
              "      <th>min</th>\n",
              "      <td>1980.000000</td>\n",
              "      <td>0.000000</td>\n",
              "      <td>0.000000</td>\n",
              "      <td>0.000000</td>\n",
              "      <td>0.000000</td>\n",
              "      <td>0.010000</td>\n",
              "    </tr>\n",
              "    <tr>\n",
              "      <th>25%</th>\n",
              "      <td>2003.000000</td>\n",
              "      <td>0.000000</td>\n",
              "      <td>0.000000</td>\n",
              "      <td>0.000000</td>\n",
              "      <td>0.000000</td>\n",
              "      <td>0.060000</td>\n",
              "    </tr>\n",
              "    <tr>\n",
              "      <th>50%</th>\n",
              "      <td>2007.000000</td>\n",
              "      <td>0.080000</td>\n",
              "      <td>0.020000</td>\n",
              "      <td>0.000000</td>\n",
              "      <td>0.010000</td>\n",
              "      <td>0.170000</td>\n",
              "    </tr>\n",
              "    <tr>\n",
              "      <th>75%</th>\n",
              "      <td>2010.000000</td>\n",
              "      <td>0.240000</td>\n",
              "      <td>0.110000</td>\n",
              "      <td>0.040000</td>\n",
              "      <td>0.030000</td>\n",
              "      <td>0.470000</td>\n",
              "    </tr>\n",
              "    <tr>\n",
              "      <th>max</th>\n",
              "      <td>2020.000000</td>\n",
              "      <td>41.360000</td>\n",
              "      <td>28.960000</td>\n",
              "      <td>10.220000</td>\n",
              "      <td>10.570000</td>\n",
              "      <td>82.530000</td>\n",
              "    </tr>\n",
              "  </tbody>\n",
              "</table>\n",
              "</div>"
            ],
            "text/plain": [
              "               Year      NA_Sales  ...   Other_Sales  Global_Sales\n",
              "count  16450.000000  16719.000000  ...  16719.000000  16719.000000\n",
              "mean    2006.487356      0.263330  ...      0.047332      0.533543\n",
              "std        5.878995      0.813514  ...      0.186710      1.547935\n",
              "min     1980.000000      0.000000  ...      0.000000      0.010000\n",
              "25%     2003.000000      0.000000  ...      0.000000      0.060000\n",
              "50%     2007.000000      0.080000  ...      0.010000      0.170000\n",
              "75%     2010.000000      0.240000  ...      0.030000      0.470000\n",
              "max     2020.000000     41.360000  ...     10.570000     82.530000\n",
              "\n",
              "[8 rows x 6 columns]"
            ]
          },
          "metadata": {
            "tags": []
          },
          "execution_count": 21
        }
      ]
    },
    {
      "cell_type": "code",
      "metadata": {
        "colab": {
          "base_uri": "https://localhost:8080/",
          "height": 390
        },
        "id": "1zfb2dVrvaAs",
        "outputId": "7a26bce8-229a-4e06-94cd-220e6a11e599"
      },
      "source": [
        "publishercol = df.drop(columns = ['Year', 'Genre', 'Name','Platform'])\n",
        "publishersum = publishercol.groupby('Publisher').sum()\n",
        "publishersum = publishersum.sort_values(by=['Global_Sales'], ascending=False).head(10)\n",
        "publishersum = publishersum.rename(index={'Electronic Arts':'EA',\n",
        "                                    'Sony Computer Entertainment': 'Sony',\n",
        "                                    'Take-Two Interactive': 'Take-Two',\n",
        "                                    'Konami Digital Entertainment':'Konami',\n",
        "                                    'Namco Bandai Games':'Namco'})\n",
        "publishersum"
      ],
      "execution_count": null,
      "outputs": [
        {
          "output_type": "execute_result",
          "data": {
            "text/html": [
              "<div>\n",
              "<style scoped>\n",
              "    .dataframe tbody tr th:only-of-type {\n",
              "        vertical-align: middle;\n",
              "    }\n",
              "\n",
              "    .dataframe tbody tr th {\n",
              "        vertical-align: top;\n",
              "    }\n",
              "\n",
              "    .dataframe thead th {\n",
              "        text-align: right;\n",
              "    }\n",
              "</style>\n",
              "<table border=\"1\" class=\"dataframe\">\n",
              "  <thead>\n",
              "    <tr style=\"text-align: right;\">\n",
              "      <th></th>\n",
              "      <th>NA_Sales</th>\n",
              "      <th>EU_Sales</th>\n",
              "      <th>JP_Sales</th>\n",
              "      <th>Other_Sales</th>\n",
              "      <th>Global_Sales</th>\n",
              "    </tr>\n",
              "    <tr>\n",
              "      <th>Publisher</th>\n",
              "      <th></th>\n",
              "      <th></th>\n",
              "      <th></th>\n",
              "      <th></th>\n",
              "      <th></th>\n",
              "    </tr>\n",
              "  </thead>\n",
              "  <tbody>\n",
              "    <tr>\n",
              "      <th>Nintendo</th>\n",
              "      <td>816.97</td>\n",
              "      <td>419.01</td>\n",
              "      <td>458.15</td>\n",
              "      <td>94.68</td>\n",
              "      <td>1788.81</td>\n",
              "    </tr>\n",
              "    <tr>\n",
              "      <th>EA</th>\n",
              "      <td>599.50</td>\n",
              "      <td>373.91</td>\n",
              "      <td>14.35</td>\n",
              "      <td>128.96</td>\n",
              "      <td>1116.96</td>\n",
              "    </tr>\n",
              "    <tr>\n",
              "      <th>Activision</th>\n",
              "      <td>432.59</td>\n",
              "      <td>215.90</td>\n",
              "      <td>6.71</td>\n",
              "      <td>75.81</td>\n",
              "      <td>731.16</td>\n",
              "    </tr>\n",
              "    <tr>\n",
              "      <th>Sony</th>\n",
              "      <td>266.17</td>\n",
              "      <td>186.56</td>\n",
              "      <td>74.15</td>\n",
              "      <td>79.67</td>\n",
              "      <td>606.48</td>\n",
              "    </tr>\n",
              "    <tr>\n",
              "      <th>Ubisoft</th>\n",
              "      <td>252.74</td>\n",
              "      <td>161.99</td>\n",
              "      <td>7.52</td>\n",
              "      <td>49.18</td>\n",
              "      <td>471.61</td>\n",
              "    </tr>\n",
              "    <tr>\n",
              "      <th>Take-Two</th>\n",
              "      <td>222.94</td>\n",
              "      <td>119.25</td>\n",
              "      <td>5.93</td>\n",
              "      <td>55.72</td>\n",
              "      <td>403.82</td>\n",
              "    </tr>\n",
              "    <tr>\n",
              "      <th>THQ</th>\n",
              "      <td>207.72</td>\n",
              "      <td>93.78</td>\n",
              "      <td>5.01</td>\n",
              "      <td>31.89</td>\n",
              "      <td>338.44</td>\n",
              "    </tr>\n",
              "    <tr>\n",
              "      <th>Konami</th>\n",
              "      <td>91.90</td>\n",
              "      <td>68.98</td>\n",
              "      <td>91.40</td>\n",
              "      <td>29.93</td>\n",
              "      <td>282.39</td>\n",
              "    </tr>\n",
              "    <tr>\n",
              "      <th>Sega</th>\n",
              "      <td>108.61</td>\n",
              "      <td>80.66</td>\n",
              "      <td>57.06</td>\n",
              "      <td>23.81</td>\n",
              "      <td>270.35</td>\n",
              "    </tr>\n",
              "    <tr>\n",
              "      <th>Namco</th>\n",
              "      <td>69.90</td>\n",
              "      <td>42.16</td>\n",
              "      <td>127.85</td>\n",
              "      <td>14.60</td>\n",
              "      <td>254.62</td>\n",
              "    </tr>\n",
              "  </tbody>\n",
              "</table>\n",
              "</div>"
            ],
            "text/plain": [
              "            NA_Sales  EU_Sales  JP_Sales  Other_Sales  Global_Sales\n",
              "Publisher                                                          \n",
              "Nintendo      816.97    419.01    458.15        94.68       1788.81\n",
              "EA            599.50    373.91     14.35       128.96       1116.96\n",
              "Activision    432.59    215.90      6.71        75.81        731.16\n",
              "Sony          266.17    186.56     74.15        79.67        606.48\n",
              "Ubisoft       252.74    161.99      7.52        49.18        471.61\n",
              "Take-Two      222.94    119.25      5.93        55.72        403.82\n",
              "THQ           207.72     93.78      5.01        31.89        338.44\n",
              "Konami         91.90     68.98     91.40        29.93        282.39\n",
              "Sega          108.61     80.66     57.06        23.81        270.35\n",
              "Namco          69.90     42.16    127.85        14.60        254.62"
            ]
          },
          "metadata": {
            "tags": []
          },
          "execution_count": 22
        }
      ]
    },
    {
      "cell_type": "code",
      "metadata": {
        "colab": {
          "base_uri": "https://localhost:8080/"
        },
        "id": "NaW644RdwXz6",
        "outputId": "806706b1-f656-4f92-d38a-40fca1e29ed9"
      },
      "source": [
        "publishermean = publishersum.drop(columns = 'Global_Sales')\n",
        "publishermean = publishermean.mean(axis=1) \n",
        "publishermean"
      ],
      "execution_count": null,
      "outputs": [
        {
          "output_type": "execute_result",
          "data": {
            "text/plain": [
              "Publisher\n",
              "Nintendo      447.2025\n",
              "EA            279.1800\n",
              "Activision    182.7525\n",
              "Sony          151.6375\n",
              "Ubisoft       117.8575\n",
              "Take-Two      100.9600\n",
              "THQ            84.6000\n",
              "Konami         70.5525\n",
              "Sega           67.5350\n",
              "Namco          63.6275\n",
              "dtype: float64"
            ]
          },
          "metadata": {
            "tags": []
          },
          "execution_count": 23
        }
      ]
    },
    {
      "cell_type": "code",
      "metadata": {
        "colab": {
          "base_uri": "https://localhost:8080/",
          "height": 350
        },
        "id": "7x2aNVjKvgIy",
        "outputId": "d6fff8e6-77c2-45a4-9ee9-383f75b3f3de"
      },
      "source": [
        "fig, ax = plt.subplots(1,2, figsize=(15,5))\n",
        "\n",
        "sns.barplot(x=publishersum.index, y=publishersum['Global_Sales'], ax=ax[0])\n",
        "# sns.set_style(\"whitegrid\")\n",
        "ax[0].set_title('Top 10 Video Game Company')\n",
        "\n",
        "sns.barplot(x=publishermean.index, y=publishermean, ax=ax[1])\n",
        "# sns.set_style(\"darkgrid\")\n",
        "ax[1].set_title('Average Region Sales Video Games')\n",
        "plt.show()"
      ],
      "execution_count": null,
      "outputs": [
        {
          "output_type": "display_data",
          "data": {
            "image/png": "[encoded data removed]",
            "text/plain": [
              "<Figure size 1080x360 with 2 Axes>"
            ]
          },
          "metadata": {
            "tags": [],
            "needs_background": "light"
          }
        }
      ]
    },
    {
      "cell_type": "code",
      "metadata": {
        "colab": {
          "base_uri": "https://localhost:8080/",
          "height": 281
        },
        "id": "hhRFaEzPwViA",
        "outputId": "2031718a-c639-4931-dcf2-8b8f69f97eaa"
      },
      "source": [
        "publisherheatmap = publishersum.rename(columns={'NA_Sales':'NA',\n",
        "                                    'EU_Sales': 'Europe',\n",
        "                                    'JP_Sales': 'Japan',\n",
        "                                    'Other_Sales':'Other',\n",
        "                                    'Global_Sales':'Global'})\n",
        "sns.heatmap(publisherheatmap)\n",
        "plt.title('Sales Distribution Region')\n",
        "plt.show()"
      ],
      "execution_count": null,
      "outputs": [
        {
          "output_type": "display_data",
          "data": {
            "image/png": "[encoded data removed]",
            "text/plain": [
              "<Figure size 432x288 with 2 Axes>"
            ]
          },
          "metadata": {
            "tags": [],
            "needs_background": "light"
          }
        }
      ]
    },
    {
      "cell_type": "code",
      "metadata": {
        "colab": {
          "base_uri": "https://localhost:8080/",
          "height": 419
        },
        "id": "y5ukIfQEwv9e",
        "outputId": "1129b470-e59c-41c9-d692-31f304627bca"
      },
      "source": [
        "genre = df.drop(columns = ['Year','Name','Platform','Publisher'])\n",
        "genre"
      ],
      "execution_count": null,
      "outputs": [
        {
          "output_type": "execute_result",
          "data": {
            "text/html": [
              "<div>\n",
              "<style scoped>\n",
              "    .dataframe tbody tr th:only-of-type {\n",
              "        vertical-align: middle;\n",
              "    }\n",
              "\n",
              "    .dataframe tbody tr th {\n",
              "        vertical-align: top;\n",
              "    }\n",
              "\n",
              "    .dataframe thead th {\n",
              "        text-align: right;\n",
              "    }\n",
              "</style>\n",
              "<table border=\"1\" class=\"dataframe\">\n",
              "  <thead>\n",
              "    <tr style=\"text-align: right;\">\n",
              "      <th></th>\n",
              "      <th>Genre</th>\n",
              "      <th>NA_Sales</th>\n",
              "      <th>EU_Sales</th>\n",
              "      <th>JP_Sales</th>\n",
              "      <th>Other_Sales</th>\n",
              "      <th>Global_Sales</th>\n",
              "    </tr>\n",
              "  </thead>\n",
              "  <tbody>\n",
              "    <tr>\n",
              "      <th>0</th>\n",
              "      <td>Sports</td>\n",
              "      <td>41.36</td>\n",
              "      <td>28.96</td>\n",
              "      <td>3.77</td>\n",
              "      <td>8.45</td>\n",
              "      <td>82.53</td>\n",
              "    </tr>\n",
              "    <tr>\n",
              "      <th>1</th>\n",
              "      <td>Platform</td>\n",
              "      <td>29.08</td>\n",
              "      <td>3.58</td>\n",
              "      <td>6.81</td>\n",
              "      <td>0.77</td>\n",
              "      <td>40.24</td>\n",
              "    </tr>\n",
              "    <tr>\n",
              "      <th>2</th>\n",
              "      <td>Racing</td>\n",
              "      <td>15.68</td>\n",
              "      <td>12.76</td>\n",
              "      <td>3.79</td>\n",
              "      <td>3.29</td>\n",
              "      <td>35.52</td>\n",
              "    </tr>\n",
              "    <tr>\n",
              "      <th>3</th>\n",
              "      <td>Sports</td>\n",
              "      <td>15.61</td>\n",
              "      <td>10.93</td>\n",
              "      <td>3.28</td>\n",
              "      <td>2.95</td>\n",
              "      <td>32.77</td>\n",
              "    </tr>\n",
              "    <tr>\n",
              "      <th>4</th>\n",
              "      <td>Role-Playing</td>\n",
              "      <td>11.27</td>\n",
              "      <td>8.89</td>\n",
              "      <td>10.22</td>\n",
              "      <td>1.00</td>\n",
              "      <td>31.37</td>\n",
              "    </tr>\n",
              "    <tr>\n",
              "      <th>...</th>\n",
              "      <td>...</td>\n",
              "      <td>...</td>\n",
              "      <td>...</td>\n",
              "      <td>...</td>\n",
              "      <td>...</td>\n",
              "      <td>...</td>\n",
              "    </tr>\n",
              "    <tr>\n",
              "      <th>16714</th>\n",
              "      <td>Action</td>\n",
              "      <td>0.00</td>\n",
              "      <td>0.00</td>\n",
              "      <td>0.01</td>\n",
              "      <td>0.00</td>\n",
              "      <td>0.01</td>\n",
              "    </tr>\n",
              "    <tr>\n",
              "      <th>16715</th>\n",
              "      <td>Sports</td>\n",
              "      <td>0.00</td>\n",
              "      <td>0.01</td>\n",
              "      <td>0.00</td>\n",
              "      <td>0.00</td>\n",
              "      <td>0.01</td>\n",
              "    </tr>\n",
              "    <tr>\n",
              "      <th>16716</th>\n",
              "      <td>Adventure</td>\n",
              "      <td>0.00</td>\n",
              "      <td>0.00</td>\n",
              "      <td>0.01</td>\n",
              "      <td>0.00</td>\n",
              "      <td>0.01</td>\n",
              "    </tr>\n",
              "    <tr>\n",
              "      <th>16717</th>\n",
              "      <td>Platform</td>\n",
              "      <td>0.01</td>\n",
              "      <td>0.00</td>\n",
              "      <td>0.00</td>\n",
              "      <td>0.00</td>\n",
              "      <td>0.01</td>\n",
              "    </tr>\n",
              "    <tr>\n",
              "      <th>16718</th>\n",
              "      <td>Simulation</td>\n",
              "      <td>0.00</td>\n",
              "      <td>0.00</td>\n",
              "      <td>0.01</td>\n",
              "      <td>0.00</td>\n",
              "      <td>0.01</td>\n",
              "    </tr>\n",
              "  </tbody>\n",
              "</table>\n",
              "<p>16719 rows × 6 columns</p>\n",
              "</div>"
            ],
            "text/plain": [
              "              Genre  NA_Sales  EU_Sales  JP_Sales  Other_Sales  Global_Sales\n",
              "0            Sports     41.36     28.96      3.77         8.45         82.53\n",
              "1          Platform     29.08      3.58      6.81         0.77         40.24\n",
              "2            Racing     15.68     12.76      3.79         3.29         35.52\n",
              "3            Sports     15.61     10.93      3.28         2.95         32.77\n",
              "4      Role-Playing     11.27      8.89     10.22         1.00         31.37\n",
              "...             ...       ...       ...       ...          ...           ...\n",
              "16714        Action      0.00      0.00      0.01         0.00          0.01\n",
              "16715        Sports      0.00      0.01      0.00         0.00          0.01\n",
              "16716     Adventure      0.00      0.00      0.01         0.00          0.01\n",
              "16717      Platform      0.01      0.00      0.00         0.00          0.01\n",
              "16718    Simulation      0.00      0.00      0.01         0.00          0.01\n",
              "\n",
              "[16719 rows x 6 columns]"
            ]
          },
          "metadata": {
            "tags": []
          },
          "execution_count": 26
        }
      ]
    },
    {
      "cell_type": "code",
      "metadata": {
        "colab": {
          "base_uri": "https://localhost:8080/",
          "height": 452
        },
        "id": "dmY91r_Xxo0o",
        "outputId": "77dd3be9-cb69-4ab9-dc6f-91893463da4a"
      },
      "source": [
        "genrecounts = genre.groupby('Genre').count()\n",
        "genrecounts = genrecounts.rename(index={'Role-Playing':'Roleplay'})\n",
        "genrecounts = genrecounts.sort_values('NA_Sales', ascending=False)\n",
        "genrecounts"
      ],
      "execution_count": null,
      "outputs": [
        {
          "output_type": "execute_result",
          "data": {
            "text/html": [
              "<div>\n",
              "<style scoped>\n",
              "    .dataframe tbody tr th:only-of-type {\n",
              "        vertical-align: middle;\n",
              "    }\n",
              "\n",
              "    .dataframe tbody tr th {\n",
              "        vertical-align: top;\n",
              "    }\n",
              "\n",
              "    .dataframe thead th {\n",
              "        text-align: right;\n",
              "    }\n",
              "</style>\n",
              "<table border=\"1\" class=\"dataframe\">\n",
              "  <thead>\n",
              "    <tr style=\"text-align: right;\">\n",
              "      <th></th>\n",
              "      <th>NA_Sales</th>\n",
              "      <th>EU_Sales</th>\n",
              "      <th>JP_Sales</th>\n",
              "      <th>Other_Sales</th>\n",
              "      <th>Global_Sales</th>\n",
              "    </tr>\n",
              "    <tr>\n",
              "      <th>Genre</th>\n",
              "      <th></th>\n",
              "      <th></th>\n",
              "      <th></th>\n",
              "      <th></th>\n",
              "      <th></th>\n",
              "    </tr>\n",
              "  </thead>\n",
              "  <tbody>\n",
              "    <tr>\n",
              "      <th>Action</th>\n",
              "      <td>3370</td>\n",
              "      <td>3370</td>\n",
              "      <td>3370</td>\n",
              "      <td>3370</td>\n",
              "      <td>3370</td>\n",
              "    </tr>\n",
              "    <tr>\n",
              "      <th>Sports</th>\n",
              "      <td>2348</td>\n",
              "      <td>2348</td>\n",
              "      <td>2348</td>\n",
              "      <td>2348</td>\n",
              "      <td>2348</td>\n",
              "    </tr>\n",
              "    <tr>\n",
              "      <th>Misc</th>\n",
              "      <td>1750</td>\n",
              "      <td>1750</td>\n",
              "      <td>1750</td>\n",
              "      <td>1750</td>\n",
              "      <td>1750</td>\n",
              "    </tr>\n",
              "    <tr>\n",
              "      <th>Roleplay</th>\n",
              "      <td>1500</td>\n",
              "      <td>1500</td>\n",
              "      <td>1500</td>\n",
              "      <td>1500</td>\n",
              "      <td>1500</td>\n",
              "    </tr>\n",
              "    <tr>\n",
              "      <th>Shooter</th>\n",
              "      <td>1323</td>\n",
              "      <td>1323</td>\n",
              "      <td>1323</td>\n",
              "      <td>1323</td>\n",
              "      <td>1323</td>\n",
              "    </tr>\n",
              "    <tr>\n",
              "      <th>Adventure</th>\n",
              "      <td>1303</td>\n",
              "      <td>1303</td>\n",
              "      <td>1303</td>\n",
              "      <td>1303</td>\n",
              "      <td>1303</td>\n",
              "    </tr>\n",
              "    <tr>\n",
              "      <th>Racing</th>\n",
              "      <td>1249</td>\n",
              "      <td>1249</td>\n",
              "      <td>1249</td>\n",
              "      <td>1249</td>\n",
              "      <td>1249</td>\n",
              "    </tr>\n",
              "    <tr>\n",
              "      <th>Platform</th>\n",
              "      <td>888</td>\n",
              "      <td>888</td>\n",
              "      <td>888</td>\n",
              "      <td>888</td>\n",
              "      <td>888</td>\n",
              "    </tr>\n",
              "    <tr>\n",
              "      <th>Simulation</th>\n",
              "      <td>874</td>\n",
              "      <td>874</td>\n",
              "      <td>874</td>\n",
              "      <td>874</td>\n",
              "      <td>874</td>\n",
              "    </tr>\n",
              "    <tr>\n",
              "      <th>Fighting</th>\n",
              "      <td>849</td>\n",
              "      <td>849</td>\n",
              "      <td>849</td>\n",
              "      <td>849</td>\n",
              "      <td>849</td>\n",
              "    </tr>\n",
              "    <tr>\n",
              "      <th>Strategy</th>\n",
              "      <td>683</td>\n",
              "      <td>683</td>\n",
              "      <td>683</td>\n",
              "      <td>683</td>\n",
              "      <td>683</td>\n",
              "    </tr>\n",
              "    <tr>\n",
              "      <th>Puzzle</th>\n",
              "      <td>580</td>\n",
              "      <td>580</td>\n",
              "      <td>580</td>\n",
              "      <td>580</td>\n",
              "      <td>580</td>\n",
              "    </tr>\n",
              "  </tbody>\n",
              "</table>\n",
              "</div>"
            ],
            "text/plain": [
              "            NA_Sales  EU_Sales  JP_Sales  Other_Sales  Global_Sales\n",
              "Genre                                                              \n",
              "Action          3370      3370      3370         3370          3370\n",
              "Sports          2348      2348      2348         2348          2348\n",
              "Misc            1750      1750      1750         1750          1750\n",
              "Roleplay        1500      1500      1500         1500          1500\n",
              "Shooter         1323      1323      1323         1323          1323\n",
              "Adventure       1303      1303      1303         1303          1303\n",
              "Racing          1249      1249      1249         1249          1249\n",
              "Platform         888       888       888          888           888\n",
              "Simulation       874       874       874          874           874\n",
              "Fighting         849       849       849          849           849\n",
              "Strategy         683       683       683          683           683\n",
              "Puzzle           580       580       580          580           580"
            ]
          },
          "metadata": {
            "tags": []
          },
          "execution_count": 27
        }
      ]
    },
    {
      "cell_type": "code",
      "metadata": {
        "colab": {
          "base_uri": "https://localhost:8080/",
          "height": 405
        },
        "id": "5mDDpHFKxrVj",
        "outputId": "83297998-f78e-4000-b5bd-eb5a2e58454e"
      },
      "source": [
        "plt.figure(figsize=(10,6))\n",
        "plt.title(\"Genre Distribution Sales\")\n",
        "sns.barplot(x=genrecounts['NA_Sales'], y=genrecounts.index)\n",
        "sns.set_style(\"darkgrid\")"
      ],
      "execution_count": null,
      "outputs": [
        {
          "output_type": "display_data",
          "data": {
            "image/png": "[encoded data removed]",
            "text/plain": [
              "<Figure size 720x432 with 1 Axes>"
            ]
          },
          "metadata": {
            "tags": [],
            "needs_background": "light"
          }
        }
      ]
    },
    {
      "cell_type": "code",
      "metadata": {
        "colab": {
          "base_uri": "https://localhost:8080/",
          "height": 419
        },
        "id": "RmbxFUeTxtop",
        "outputId": "58ef3001-b3d5-4073-d492-95da9d34c2a3"
      },
      "source": [
        "yeargrowth = df.drop(columns = ['Genre', 'Name','Platform','NA_Sales','EU_Sales', 'JP_Sales','NA_Sales', 'Other_Sales'])\n",
        "yeargrowth"
      ],
      "execution_count": null,
      "outputs": [
        {
          "output_type": "execute_result",
          "data": {
            "text/html": [
              "<div>\n",
              "<style scoped>\n",
              "    .dataframe tbody tr th:only-of-type {\n",
              "        vertical-align: middle;\n",
              "    }\n",
              "\n",
              "    .dataframe tbody tr th {\n",
              "        vertical-align: top;\n",
              "    }\n",
              "\n",
              "    .dataframe thead th {\n",
              "        text-align: right;\n",
              "    }\n",
              "</style>\n",
              "<table border=\"1\" class=\"dataframe\">\n",
              "  <thead>\n",
              "    <tr style=\"text-align: right;\">\n",
              "      <th></th>\n",
              "      <th>Year</th>\n",
              "      <th>Publisher</th>\n",
              "      <th>Global_Sales</th>\n",
              "    </tr>\n",
              "  </thead>\n",
              "  <tbody>\n",
              "    <tr>\n",
              "      <th>0</th>\n",
              "      <td>2006.0</td>\n",
              "      <td>Nintendo</td>\n",
              "      <td>82.53</td>\n",
              "    </tr>\n",
              "    <tr>\n",
              "      <th>1</th>\n",
              "      <td>1985.0</td>\n",
              "      <td>Nintendo</td>\n",
              "      <td>40.24</td>\n",
              "    </tr>\n",
              "    <tr>\n",
              "      <th>2</th>\n",
              "      <td>2008.0</td>\n",
              "      <td>Nintendo</td>\n",
              "      <td>35.52</td>\n",
              "    </tr>\n",
              "    <tr>\n",
              "      <th>3</th>\n",
              "      <td>2009.0</td>\n",
              "      <td>Nintendo</td>\n",
              "      <td>32.77</td>\n",
              "    </tr>\n",
              "    <tr>\n",
              "      <th>4</th>\n",
              "      <td>1996.0</td>\n",
              "      <td>Nintendo</td>\n",
              "      <td>31.37</td>\n",
              "    </tr>\n",
              "    <tr>\n",
              "      <th>...</th>\n",
              "      <td>...</td>\n",
              "      <td>...</td>\n",
              "      <td>...</td>\n",
              "    </tr>\n",
              "    <tr>\n",
              "      <th>16714</th>\n",
              "      <td>2016.0</td>\n",
              "      <td>Tecmo Koei</td>\n",
              "      <td>0.01</td>\n",
              "    </tr>\n",
              "    <tr>\n",
              "      <th>16715</th>\n",
              "      <td>2006.0</td>\n",
              "      <td>Codemasters</td>\n",
              "      <td>0.01</td>\n",
              "    </tr>\n",
              "    <tr>\n",
              "      <th>16716</th>\n",
              "      <td>2016.0</td>\n",
              "      <td>Idea Factory</td>\n",
              "      <td>0.01</td>\n",
              "    </tr>\n",
              "    <tr>\n",
              "      <th>16717</th>\n",
              "      <td>2003.0</td>\n",
              "      <td>Wanadoo</td>\n",
              "      <td>0.01</td>\n",
              "    </tr>\n",
              "    <tr>\n",
              "      <th>16718</th>\n",
              "      <td>2016.0</td>\n",
              "      <td>Tecmo Koei</td>\n",
              "      <td>0.01</td>\n",
              "    </tr>\n",
              "  </tbody>\n",
              "</table>\n",
              "<p>16719 rows × 3 columns</p>\n",
              "</div>"
            ],
            "text/plain": [
              "         Year     Publisher  Global_Sales\n",
              "0      2006.0      Nintendo         82.53\n",
              "1      1985.0      Nintendo         40.24\n",
              "2      2008.0      Nintendo         35.52\n",
              "3      2009.0      Nintendo         32.77\n",
              "4      1996.0      Nintendo         31.37\n",
              "...       ...           ...           ...\n",
              "16714  2016.0    Tecmo Koei          0.01\n",
              "16715  2006.0   Codemasters          0.01\n",
              "16716  2016.0  Idea Factory          0.01\n",
              "16717  2003.0       Wanadoo          0.01\n",
              "16718  2016.0    Tecmo Koei          0.01\n",
              "\n",
              "[16719 rows x 3 columns]"
            ]
          },
          "metadata": {
            "tags": []
          },
          "execution_count": 32
        }
      ]
    },
    {
      "cell_type": "code",
      "metadata": {
        "id": "agIqO5AxyAR2"
      },
      "source": [
        "nintendogrow = yeargrowth[yeargrowth['Publisher'] == 'Nintendo']\n",
        "eagrow = yeargrowth[yeargrowth['Publisher'] == 'Electronic Arts']\n",
        "activisiongrow = yeargrowth[yeargrowth['Publisher'] == 'Activision']\n",
        "sonygrow = yeargrowth[yeargrowth['Publisher'] == 'Sony Computer Entertainment']"
      ],
      "execution_count": null,
      "outputs": []
    },
    {
      "cell_type": "code",
      "metadata": {
        "colab": {
          "base_uri": "https://localhost:8080/",
          "height": 624
        },
        "id": "9vYjMNGzyCh7",
        "outputId": "525b66fb-7b55-4b19-ea67-19d23509682c"
      },
      "source": [
        "fig, ax = plt.subplots(2,2,figsize=(8,10))\n",
        "\n",
        "nintendogrow = nintendogrow.groupby('Year').sum()\n",
        "eagrow = eagrow.groupby('Year').sum()\n",
        "activisiongrow = activisiongrow.groupby('Year').sum()\n",
        "sonygrow = sonygrow.groupby('Year').sum()\n",
        "\n",
        "ax[0,0].plot(nintendogrow)\n",
        "ax[0,0].set_title('Nintendo Sales Growth')\n",
        "\n",
        "ax[0,1].plot(eagrow)\n",
        "ax[0,1].set_title('EA Sales Growth')\n",
        "\n",
        "ax[1,0].plot(activisiongrow)\n",
        "ax[1,0].set_title('Activision Sales Growth')\n",
        "\n",
        "ax[1,1].plot(sonygrow)\n",
        "ax[1,1].set_title('Sony Sales Growth')"
      ],
      "execution_count": null,
      "outputs": [
        {
          "output_type": "execute_result",
          "data": {
            "text/plain": [
              "Text(0.5, 1.0, 'Sony Sales Growth')"
            ]
          },
          "metadata": {
            "tags": []
          },
          "execution_count": 34
        },
        {
          "output_type": "display_data",
          "data": {
            "image/png": "[encoded data removed]",
            "text/plain": [
              "<Figure size 576x720 with 4 Axes>"
            ]
          },
          "metadata": {
            "tags": []
          }
        }
      ]
    },
    {
      "cell_type": "code",
      "metadata": {
        "colab": {
          "base_uri": "https://localhost:8080/",
          "height": 318
        },
        "id": "40vOFveryEAK",
        "outputId": "f5f437e4-9d31-4f50-d34b-7e2b95252fbd"
      },
      "source": [
        "import matplotlib.pyplot as plt\n",
        "import matplotlib.colors as mcolors\n",
        "import matplotlib.gridspec as gridspec\n",
        "import numpy as np\n",
        "\n",
        "plt.rcParams['savefig.facecolor'] = \"0.8\"\n",
        "plt.rcParams['figure.figsize'] = 4.5, 4.\n",
        "plt.rcParams['figure.max_open_warning'] = 50\n",
        "\n",
        "\n",
        "def example_plot(ax, fontsize=12, hide_labels=False):\n",
        "    ax.plot([1, 2])\n",
        "\n",
        "    ax.locator_params(nbins=3)\n",
        "    if hide_labels:\n",
        "        ax.set_xticklabels([])\n",
        "        ax.set_yticklabels([])\n",
        "    else:\n",
        "        ax.set_xlabel('x-label', fontsize=fontsize)\n",
        "        ax.set_ylabel('y-label', fontsize=fontsize)\n",
        "        ax.set_title('Title', fontsize=fontsize)\n",
        "\n",
        "\n",
        "fig, ax = plt.subplots(constrained_layout=False)\n",
        "example_plot(ax, fontsize=24)"
      ],
      "execution_count": null,
      "outputs": [
        {
          "output_type": "display_data",
          "data": {
            "image/png": "[encoded data removed]",
            "text/plain": [
              "<Figure size 324x288 with 1 Axes>"
            ]
          },
          "metadata": {
            "tags": []
          }
        }
      ]
    },
    {
      "cell_type": "code",
      "metadata": {
        "colab": {
          "base_uri": "https://localhost:8080/",
          "height": 698
        },
        "id": "QxH7ImO6zL7S",
        "outputId": "8500f052-135a-41cd-c7df-736052488723"
      },
      "source": [
        "fig = plt.figure(figsize=(8,10))\n",
        "\n",
        "ax1 = plt.subplot2grid((3, 3), (0, 0))\n",
        "ax2 = plt.subplot2grid((3, 3), (0, 1), colspan=2)\n",
        "ax3 = plt.subplot2grid((3, 3), (1, 0), colspan=2, rowspan=2)\n",
        "ax4 = plt.subplot2grid((3, 3), (1, 2), rowspan=2)\n",
        "\n",
        "example_plot(ax1)\n",
        "example_plot(ax2)\n",
        "example_plot(ax3)\n",
        "example_plot(ax4)\n",
        "fig.suptitle('subplot2grid')"
      ],
      "execution_count": null,
      "outputs": [
        {
          "output_type": "execute_result",
          "data": {
            "text/plain": [
              "Text(0.5, 0.98, 'subplot2grid')"
            ]
          },
          "metadata": {
            "tags": []
          },
          "execution_count": 36
        },
        {
          "output_type": "display_data",
          "data": {
            "image/png": "[encoded data removed]",
            "text/plain": [
              "<Figure size 576x720 with 4 Axes>"
            ]
          },
          "metadata": {
            "tags": []
          }
        }
      ]
    },
    {
      "cell_type": "code",
      "metadata": {
        "colab": {
          "base_uri": "https://localhost:8080/",
          "height": 399
        },
        "id": "pt4x7bns0VG7",
        "outputId": "ddead065-9ff1-4277-c40a-f5ceb229a91e"
      },
      "source": [
        "# Import seaborn\n",
        "import seaborn as sns\n",
        "\n",
        "# Apply the default theme\n",
        "sns.set_theme()\n",
        "\n",
        "# Load an example dataset\n",
        "tips = sns.load_dataset(\"tips\")\n",
        "\n",
        "# Create a visualization\n",
        "sns.relplot(\n",
        "    data=tips,\n",
        "    x=\"total_bill\", y=\"tip\", col=\"time\",\n",
        "    hue=\"smoker\", style=\"smoker\", size=\"size\",\n",
        ")"
      ],
      "execution_count": null,
      "outputs": [
        {
          "output_type": "execute_result",
          "data": {
            "text/plain": [
              "<seaborn.axisgrid.FacetGrid at 0x7f47da34a310>"
            ]
          },
          "metadata": {
            "tags": []
          },
          "execution_count": 37
        },
        {
          "output_type": "display_data",
          "data": {
            "image/png": "[encoded data removed]",
            "text/plain": [
              "<Figure size 781.975x360 with 2 Axes>"
            ]
          },
          "metadata": {
            "tags": []
          }
        }
      ]
    },
    {
      "cell_type": "code",
      "metadata": {
        "id": "8hM6JJi__be-"
      },
      "source": [
        ""
      ],
      "execution_count": null,
      "outputs": []
    }
  ]
}