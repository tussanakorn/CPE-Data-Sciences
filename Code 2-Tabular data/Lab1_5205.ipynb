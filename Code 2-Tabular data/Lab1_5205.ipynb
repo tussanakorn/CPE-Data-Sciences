{
 "cells": [
  {
   "cell_type": "markdown",
   "metadata": {},
   "source": [
    "# <center>Data Science : Lab 1</center>\n",
    "---"
   ]
  },
  {
   "cell_type": "markdown",
   "metadata": {},
   "source": [
    "## 1. Select a data source"
   ]
  },
  {
   "cell_type": "markdown",
   "metadata": {},
   "source": [
    "Data source > https://covid19.ddc.moph.go.th/\n",
    "\n",
    "API Covid-19 : https://covid19.ddc.moph.go.th/api/Cases/round-3-line-lists\n",
    "\n",
    "ข้อมูลผู้ป่วยระลอก 3 ตั้งแต่ 01/04/2021"
   ]
  },
  {
   "cell_type": "markdown",
   "metadata": {},
   "source": [
    "## 2. Identify what form of data it has \n",
    ": Transactional data"
   ]
  },
  {
   "cell_type": "markdown",
   "metadata": {},
   "source": [
    "## 3. Select one aspect/question of the data\n",
    ": กลุ่มผู้ป่วยโควิดระลอก 3 ตั้งแต่วันที่ 01/04/2021 ส่วนใหญ่เป็นกลุ่มคนไหน อยู่ในช่วงอายุเท่าไหร่ และมีปัจจัยเสี่ยงมาจากที่ใด"
   ]
  },
  {
   "cell_type": "markdown",
   "metadata": {},
   "source": [
    "## 4. Create a visualization to describe the data"
   ]
  },
  {
   "cell_type": "markdown",
   "metadata": {},
   "source": [
    "### Import Library"
   ]
  },
  {
   "cell_type": "code",
   "execution_count": 19,
   "metadata": {},
   "outputs": [],
   "source": [
    "import certifi\n",
    "import json\n",
    "from urllib3 import request, PoolManager\n",
    "from pandas.io.json import json_normalize\n",
    "\n",
    "import pandas as pd\n",
    "import numpy as np\n",
    "import seaborn as sns\n",
    "import matplotlib.pyplot as plt"
   ]
  },
  {
   "cell_type": "code",
   "execution_count": 20,
   "metadata": {},
   "outputs": [],
   "source": [
    "plt.rcParams['font.family']='TH SarabunPSK'\n",
    "plt.rcParams['font.size']=18\n",
    "sns.set_style(\"darkgrid\")\n",
    "sns.set(font=\"TH SarabunPSK\")\n",
    "# sns.reset_orig()"
   ]
  },
  {
   "cell_type": "markdown",
   "metadata": {},
   "source": [
    "### Get data"
   ]
  },
  {
   "cell_type": "code",
   "execution_count": 45,
   "metadata": {},
   "outputs": [],
   "source": [
    "#ดึงข้อมูลจาก API COVID\n",
    "http = PoolManager(\n",
    "       cert_reqs='CERT_REQUIRED',\n",
    "       ca_certs=certifi.where())\n",
    "url = 'https://covid19.ddc.moph.go.th/api/Cases/round-3-line-lists'\n",
    "r = http.request('GET', url)\n",
    "data = json.loads(r.data.decode('utf-8'))"
   ]
  },
  {
   "cell_type": "code",
   "execution_count": 46,
   "metadata": {},
   "outputs": [],
   "source": [
    "#จัดข้อมูลให้อยู่ในรูปแบบของ Data Frame เพื่อที่จะนำไปใช้งานต่อ\n",
    "list_data = []\n",
    "for i in data['data']:\n",
    "    list_data.append(i)\n",
    "\n",
    "df = pd.DataFrame.from_records(list_data)"
   ]
  },
  {
   "cell_type": "code",
   "execution_count": 47,
   "metadata": {},
   "outputs": [
    {
     "data": {
      "text/html": [
       "<div>\n",
       "<style scoped>\n",
       "    .dataframe tbody tr th:only-of-type {\n",
       "        vertical-align: middle;\n",
       "    }\n",
       "\n",
       "    .dataframe tbody tr th {\n",
       "        vertical-align: top;\n",
       "    }\n",
       "\n",
       "    .dataframe thead th {\n",
       "        text-align: right;\n",
       "    }\n",
       "</style>\n",
       "<table border=\"1\" class=\"dataframe\">\n",
       "  <thead>\n",
       "    <tr style=\"text-align: right;\">\n",
       "      <th></th>\n",
       "      <th>txn_date</th>\n",
       "      <th>gender</th>\n",
       "      <th>age_number</th>\n",
       "      <th>age_range</th>\n",
       "      <th>nationality</th>\n",
       "      <th>job</th>\n",
       "      <th>risk</th>\n",
       "      <th>patient_type</th>\n",
       "      <th>province</th>\n",
       "      <th>update_date</th>\n",
       "    </tr>\n",
       "  </thead>\n",
       "  <tbody>\n",
       "    <tr>\n",
       "      <th>0</th>\n",
       "      <td>2021-04-01</td>\n",
       "      <td>ชาย</td>\n",
       "      <td>24</td>\n",
       "      <td>20-29 ปี</td>\n",
       "      <td>Thailand</td>\n",
       "      <td>None</td>\n",
       "      <td>สถานบันเทิง</td>\n",
       "      <td>1.ผู้ป่วย PUI</td>\n",
       "      <td>กรุงเทพมหานคร</td>\n",
       "      <td>None</td>\n",
       "    </tr>\n",
       "    <tr>\n",
       "      <th>1</th>\n",
       "      <td>2021-04-01</td>\n",
       "      <td>ชาย</td>\n",
       "      <td>23</td>\n",
       "      <td>20-29 ปี</td>\n",
       "      <td>Thailand</td>\n",
       "      <td>None</td>\n",
       "      <td>สถานบันเทิง</td>\n",
       "      <td>2.สัมผัสผู้ติดเชื้อ</td>\n",
       "      <td>กรุงเทพมหานคร</td>\n",
       "      <td>None</td>\n",
       "    </tr>\n",
       "    <tr>\n",
       "      <th>2</th>\n",
       "      <td>2021-04-01</td>\n",
       "      <td>ชาย</td>\n",
       "      <td>29</td>\n",
       "      <td>20-29 ปี</td>\n",
       "      <td>Burma</td>\n",
       "      <td>รับจ้างทั่วไป / ฟรีแลนซ์</td>\n",
       "      <td>สัมผัสใกล้ชิดกับผู้ป่วยยืนยันรายก่อนหน้านี้</td>\n",
       "      <td>2.สัมผัสผู้ติดเชื้อ</td>\n",
       "      <td>กรุงเทพมหานคร</td>\n",
       "      <td>None</td>\n",
       "    </tr>\n",
       "    <tr>\n",
       "      <th>3</th>\n",
       "      <td>2021-04-01</td>\n",
       "      <td>ชาย</td>\n",
       "      <td>27</td>\n",
       "      <td>20-29 ปี</td>\n",
       "      <td>Burma</td>\n",
       "      <td>พนักงานบริษัท/โรงงาน</td>\n",
       "      <td>Cluster สมุทรสาคร</td>\n",
       "      <td>8.ขอตรวจหาเชื้อเอง</td>\n",
       "      <td>สมุทรสาคร</td>\n",
       "      <td>None</td>\n",
       "    </tr>\n",
       "    <tr>\n",
       "      <th>4</th>\n",
       "      <td>2021-04-01</td>\n",
       "      <td>ชาย</td>\n",
       "      <td>28</td>\n",
       "      <td>20-29 ปี</td>\n",
       "      <td>Burma</td>\n",
       "      <td>ว่างงาน</td>\n",
       "      <td>Cluster สมุทรสาคร</td>\n",
       "      <td>8.ขอตรวจหาเชื้อเอง</td>\n",
       "      <td>สมุทรสาคร</td>\n",
       "      <td>None</td>\n",
       "    </tr>\n",
       "  </tbody>\n",
       "</table>\n",
       "</div>"
      ],
      "text/plain": [
       "     txn_date gender age_number age_range nationality  \\\n",
       "0  2021-04-01    ชาย         24  20-29 ปี    Thailand   \n",
       "1  2021-04-01    ชาย         23  20-29 ปี    Thailand   \n",
       "2  2021-04-01    ชาย         29  20-29 ปี       Burma   \n",
       "3  2021-04-01    ชาย         27  20-29 ปี       Burma   \n",
       "4  2021-04-01    ชาย         28  20-29 ปี       Burma   \n",
       "\n",
       "                        job                                         risk  \\\n",
       "0                      None                                  สถานบันเทิง   \n",
       "1                      None                                  สถานบันเทิง   \n",
       "2  รับจ้างทั่วไป / ฟรีแลนซ์  สัมผัสใกล้ชิดกับผู้ป่วยยืนยันรายก่อนหน้านี้   \n",
       "3      พนักงานบริษัท/โรงงาน                            Cluster สมุทรสาคร   \n",
       "4                   ว่างงาน                            Cluster สมุทรสาคร   \n",
       "\n",
       "          patient_type       province update_date  \n",
       "0        1.ผู้ป่วย PUI  กรุงเทพมหานคร        None  \n",
       "1  2.สัมผัสผู้ติดเชื้อ  กรุงเทพมหานคร        None  \n",
       "2  2.สัมผัสผู้ติดเชื้อ  กรุงเทพมหานคร        None  \n",
       "3   8.ขอตรวจหาเชื้อเอง      สมุทรสาคร        None  \n",
       "4   8.ขอตรวจหาเชื้อเอง      สมุทรสาคร        None  "
      ]
     },
     "execution_count": 47,
     "metadata": {},
     "output_type": "execute_result"
    }
   ],
   "source": [
    "#ดูข้อมูล 5 แถวแรก\n",
    "df.head()"
   ]
  },
  {
   "cell_type": "code",
   "execution_count": 48,
   "metadata": {},
   "outputs": [
    {
     "data": {
      "text/html": [
       "<div>\n",
       "<style scoped>\n",
       "    .dataframe tbody tr th:only-of-type {\n",
       "        vertical-align: middle;\n",
       "    }\n",
       "\n",
       "    .dataframe tbody tr th {\n",
       "        vertical-align: top;\n",
       "    }\n",
       "\n",
       "    .dataframe thead th {\n",
       "        text-align: right;\n",
       "    }\n",
       "</style>\n",
       "<table border=\"1\" class=\"dataframe\">\n",
       "  <thead>\n",
       "    <tr style=\"text-align: right;\">\n",
       "      <th></th>\n",
       "      <th>txn_date</th>\n",
       "      <th>gender</th>\n",
       "      <th>age_number</th>\n",
       "      <th>age_range</th>\n",
       "      <th>nationality</th>\n",
       "      <th>job</th>\n",
       "      <th>risk</th>\n",
       "      <th>patient_type</th>\n",
       "      <th>province</th>\n",
       "      <th>update_date</th>\n",
       "    </tr>\n",
       "  </thead>\n",
       "  <tbody>\n",
       "    <tr>\n",
       "      <th>4995</th>\n",
       "      <td>2021-04-13</td>\n",
       "      <td>ชาย</td>\n",
       "      <td>26</td>\n",
       "      <td>20-29 ปี</td>\n",
       "      <td>Thailand</td>\n",
       "      <td>None</td>\n",
       "      <td>ไปสถานที่แออัด เช่น งานแฟร์ คอนเสิร์ต</td>\n",
       "      <td>8.ขอตรวจหาเชื้อเอง</td>\n",
       "      <td>นครราชสีมา</td>\n",
       "      <td>None</td>\n",
       "    </tr>\n",
       "    <tr>\n",
       "      <th>4996</th>\n",
       "      <td>2021-04-13</td>\n",
       "      <td>ชาย</td>\n",
       "      <td>21</td>\n",
       "      <td>20-29 ปี</td>\n",
       "      <td>Thailand</td>\n",
       "      <td>None</td>\n",
       "      <td>สถานบันเทิง</td>\n",
       "      <td>-</td>\n",
       "      <td>อุบลราชธานี</td>\n",
       "      <td>None</td>\n",
       "    </tr>\n",
       "    <tr>\n",
       "      <th>4997</th>\n",
       "      <td>2021-04-13</td>\n",
       "      <td>ชาย</td>\n",
       "      <td>24</td>\n",
       "      <td>20-29 ปี</td>\n",
       "      <td>Thailand</td>\n",
       "      <td>None</td>\n",
       "      <td>สถานบันเทิง</td>\n",
       "      <td>-</td>\n",
       "      <td>อุบลราชธานี</td>\n",
       "      <td>None</td>\n",
       "    </tr>\n",
       "    <tr>\n",
       "      <th>4998</th>\n",
       "      <td>2021-04-13</td>\n",
       "      <td>ชาย</td>\n",
       "      <td>27</td>\n",
       "      <td>20-29 ปี</td>\n",
       "      <td>Thailand</td>\n",
       "      <td>None</td>\n",
       "      <td>สถานบันเทิง</td>\n",
       "      <td>-</td>\n",
       "      <td>อุบลราชธานี</td>\n",
       "      <td>None</td>\n",
       "    </tr>\n",
       "    <tr>\n",
       "      <th>4999</th>\n",
       "      <td>2021-04-13</td>\n",
       "      <td>ชาย</td>\n",
       "      <td>22</td>\n",
       "      <td>20-29 ปี</td>\n",
       "      <td>Thailand</td>\n",
       "      <td>None</td>\n",
       "      <td>อยู่ระหว่างการสอบสวน</td>\n",
       "      <td>-</td>\n",
       "      <td>ชลบุรี</td>\n",
       "      <td>None</td>\n",
       "    </tr>\n",
       "  </tbody>\n",
       "</table>\n",
       "</div>"
      ],
      "text/plain": [
       "        txn_date gender age_number age_range nationality   job  \\\n",
       "4995  2021-04-13    ชาย         26  20-29 ปี    Thailand  None   \n",
       "4996  2021-04-13    ชาย         21  20-29 ปี    Thailand  None   \n",
       "4997  2021-04-13    ชาย         24  20-29 ปี    Thailand  None   \n",
       "4998  2021-04-13    ชาย         27  20-29 ปี    Thailand  None   \n",
       "4999  2021-04-13    ชาย         22  20-29 ปี    Thailand  None   \n",
       "\n",
       "                                       risk        patient_type     province  \\\n",
       "4995  ไปสถานที่แออัด เช่น งานแฟร์ คอนเสิร์ต  8.ขอตรวจหาเชื้อเอง   นครราชสีมา   \n",
       "4996                            สถานบันเทิง                   -  อุบลราชธานี   \n",
       "4997                            สถานบันเทิง                   -  อุบลราชธานี   \n",
       "4998                            สถานบันเทิง                   -  อุบลราชธานี   \n",
       "4999                   อยู่ระหว่างการสอบสวน                   -       ชลบุรี   \n",
       "\n",
       "     update_date  \n",
       "4995        None  \n",
       "4996        None  \n",
       "4997        None  \n",
       "4998        None  \n",
       "4999        None  "
      ]
     },
     "execution_count": 48,
     "metadata": {},
     "output_type": "execute_result"
    }
   ],
   "source": [
    "#ดูข้อมูล 5 แถวสุดท้าย\n",
    "df.tail()"
   ]
  },
  {
   "cell_type": "code",
   "execution_count": 49,
   "metadata": {},
   "outputs": [
    {
     "name": "stdout",
     "output_type": "stream",
     "text": [
      "<class 'pandas.core.frame.DataFrame'>\n",
      "RangeIndex: 5000 entries, 0 to 4999\n",
      "Data columns (total 10 columns):\n",
      " #   Column        Non-Null Count  Dtype \n",
      "---  ------        --------------  ----- \n",
      " 0   txn_date      5000 non-null   object\n",
      " 1   gender        5000 non-null   object\n",
      " 2   age_number    4663 non-null   object\n",
      " 3   age_range     5000 non-null   object\n",
      " 4   nationality   4496 non-null   object\n",
      " 5   job           1843 non-null   object\n",
      " 6   risk          4994 non-null   object\n",
      " 7   patient_type  5000 non-null   object\n",
      " 8   province      5000 non-null   object\n",
      " 9   update_date   0 non-null      object\n",
      "dtypes: object(10)\n",
      "memory usage: 390.8+ KB\n"
     ]
    }
   ],
   "source": [
    "#ดูภาพรวมของข้อมูลทั้งหมด\n",
    "df.info()"
   ]
  },
  {
   "cell_type": "code",
   "execution_count": 54,
   "metadata": {},
   "outputs": [
    {
     "data": {
      "text/html": [
       "<div>\n",
       "<style scoped>\n",
       "    .dataframe tbody tr th:only-of-type {\n",
       "        vertical-align: middle;\n",
       "    }\n",
       "\n",
       "    .dataframe tbody tr th {\n",
       "        vertical-align: top;\n",
       "    }\n",
       "\n",
       "    .dataframe thead th {\n",
       "        text-align: right;\n",
       "    }\n",
       "</style>\n",
       "<table border=\"1\" class=\"dataframe\">\n",
       "  <thead>\n",
       "    <tr style=\"text-align: right;\">\n",
       "      <th></th>\n",
       "      <th>count</th>\n",
       "      <th>unique</th>\n",
       "      <th>top</th>\n",
       "      <th>freq</th>\n",
       "    </tr>\n",
       "  </thead>\n",
       "  <tbody>\n",
       "    <tr>\n",
       "      <th>txn_date</th>\n",
       "      <td>5000</td>\n",
       "      <td>13</td>\n",
       "      <td>2021-04-12</td>\n",
       "      <td>985</td>\n",
       "    </tr>\n",
       "    <tr>\n",
       "      <th>gender</th>\n",
       "      <td>5000</td>\n",
       "      <td>3</td>\n",
       "      <td>ชาย</td>\n",
       "      <td>2476</td>\n",
       "    </tr>\n",
       "    <tr>\n",
       "      <th>age_number</th>\n",
       "      <td>4663</td>\n",
       "      <td>88</td>\n",
       "      <td>25</td>\n",
       "      <td>287</td>\n",
       "    </tr>\n",
       "    <tr>\n",
       "      <th>age_range</th>\n",
       "      <td>5000</td>\n",
       "      <td>9</td>\n",
       "      <td>20-29 ปี</td>\n",
       "      <td>2322</td>\n",
       "    </tr>\n",
       "    <tr>\n",
       "      <th>nationality</th>\n",
       "      <td>4496</td>\n",
       "      <td>41</td>\n",
       "      <td>Thailand</td>\n",
       "      <td>4239</td>\n",
       "    </tr>\n",
       "    <tr>\n",
       "      <th>job</th>\n",
       "      <td>1843</td>\n",
       "      <td>31</td>\n",
       "      <td>พนักงานบริษัท/โรงงาน</td>\n",
       "      <td>297</td>\n",
       "    </tr>\n",
       "    <tr>\n",
       "      <th>risk</th>\n",
       "      <td>4994</td>\n",
       "      <td>19</td>\n",
       "      <td>สถานบันเทิง</td>\n",
       "      <td>2420</td>\n",
       "    </tr>\n",
       "    <tr>\n",
       "      <th>patient_type</th>\n",
       "      <td>5000</td>\n",
       "      <td>8</td>\n",
       "      <td>7.สำรวจกลุ่มเสี่ยง (survey)</td>\n",
       "      <td>1919</td>\n",
       "    </tr>\n",
       "    <tr>\n",
       "      <th>province</th>\n",
       "      <td>5000</td>\n",
       "      <td>74</td>\n",
       "      <td>กรุงเทพมหานคร</td>\n",
       "      <td>1533</td>\n",
       "    </tr>\n",
       "    <tr>\n",
       "      <th>update_date</th>\n",
       "      <td>0</td>\n",
       "      <td>0</td>\n",
       "      <td>NaN</td>\n",
       "      <td>NaN</td>\n",
       "    </tr>\n",
       "  </tbody>\n",
       "</table>\n",
       "</div>"
      ],
      "text/plain": [
       "             count unique                          top  freq\n",
       "txn_date      5000     13                   2021-04-12   985\n",
       "gender        5000      3                          ชาย  2476\n",
       "age_number    4663     88                           25   287\n",
       "age_range     5000      9                     20-29 ปี  2322\n",
       "nationality   4496     41                     Thailand  4239\n",
       "job           1843     31         พนักงานบริษัท/โรงงาน   297\n",
       "risk          4994     19                  สถานบันเทิง  2420\n",
       "patient_type  5000      8  7.สำรวจกลุ่มเสี่ยง (survey)  1919\n",
       "province      5000     74                กรุงเทพมหานคร  1533\n",
       "update_date      0      0                          NaN   NaN"
      ]
     },
     "execution_count": 54,
     "metadata": {},
     "output_type": "execute_result"
    }
   ],
   "source": [
    "#ดู Distribution คร่าว ๆ ของแต่ละคอลัมน์ว่าเป็นอย่างไร | \n",
    "df.describe().T"
   ]
  },
  {
   "cell_type": "code",
   "execution_count": 55,
   "metadata": {},
   "outputs": [
    {
     "data": {
      "text/plain": [
       "Index(['txn_date', 'gender', 'age_number', 'age_range', 'nationality', 'job',\n",
       "       'risk', 'patient_type', 'province', 'update_date'],\n",
       "      dtype='object')"
      ]
     },
     "execution_count": 55,
     "metadata": {},
     "output_type": "execute_result"
    }
   ],
   "source": [
    "#ดูคอลัมของข้อมูล\n",
    "df.columns"
   ]
  },
  {
   "cell_type": "code",
   "execution_count": 56,
   "metadata": {},
   "outputs": [
    {
     "data": {
      "text/plain": [
       "txn_date           0\n",
       "gender             0\n",
       "age_number       337\n",
       "age_range          0\n",
       "nationality      504\n",
       "job             3157\n",
       "risk               6\n",
       "patient_type       0\n",
       "province           0\n",
       "update_date     5000\n",
       "dtype: int64"
      ]
     },
     "execution_count": 56,
     "metadata": {},
     "output_type": "execute_result"
    }
   ],
   "source": [
    "#เช็ค Missing value \n",
    "df.isna().sum()"
   ]
  },
  {
   "cell_type": "code",
   "execution_count": 57,
   "metadata": {},
   "outputs": [
    {
     "data": {
      "text/plain": [
       "txn_date        False\n",
       "gender          False\n",
       "age_number       True\n",
       "age_range       False\n",
       "nationality      True\n",
       "job              True\n",
       "risk             True\n",
       "patient_type    False\n",
       "province        False\n",
       "update_date      True\n",
       "dtype: bool"
      ]
     },
     "execution_count": 57,
     "metadata": {},
     "output_type": "execute_result"
    }
   ],
   "source": [
    "#เช็ค Missing value\n",
    "df.isnull().any()"
   ]
  },
  {
   "cell_type": "code",
   "execution_count": 58,
   "metadata": {},
   "outputs": [
    {
     "name": "stdout",
     "output_type": "stream",
     "text": [
      "<class 'pandas.core.frame.DataFrame'>\n",
      "RangeIndex: 5000 entries, 0 to 4999\n",
      "Data columns (total 10 columns):\n",
      " #   Column        Non-Null Count  Dtype         \n",
      "---  ------        --------------  -----         \n",
      " 0   txn_date      5000 non-null   datetime64[ns]\n",
      " 1   gender        5000 non-null   object        \n",
      " 2   age_number    4663 non-null   object        \n",
      " 3   age_range     5000 non-null   object        \n",
      " 4   nationality   4496 non-null   object        \n",
      " 5   job           1843 non-null   object        \n",
      " 6   risk          4994 non-null   object        \n",
      " 7   patient_type  5000 non-null   object        \n",
      " 8   province      5000 non-null   object        \n",
      " 9   update_date   0 non-null      object        \n",
      "dtypes: datetime64[ns](1), object(9)\n",
      "memory usage: 390.8+ KB\n"
     ]
    }
   ],
   "source": [
    "#เนื่องข้อมูล Column \"txn_date\" มี type เป็นแบบ Object จึงต้องทำการแปลงข้อมูล DATE จาก Object เป็น Datetime\n",
    "df['txn_date'] = pd.to_datetime(df['txn_date'])\n",
    "df.info()"
   ]
  },
  {
   "cell_type": "code",
   "execution_count": 59,
   "metadata": {},
   "outputs": [
    {
     "data": {
      "image/png": "[encoded data removed]",
      "text/plain": [
       "<Figure size 432x288 with 1 Axes>"
      ]
     },
     "metadata": {},
     "output_type": "display_data"
    }
   ],
   "source": [
    "sns.countplot(data = df, x= 'gender')\n",
    "plt.xlabel(\"เพศ\",fontsize = 15)\n",
    "plt.ylabel(\"จำนวนคน\",fontsize = 15)\n",
    "plt.title(\"จำนวนคนติดเชื้อ แยกตามเพศ\",fontdict= {'fontsize': 18, 'fontweight':'bold'}) \n",
    "plt.show()"
   ]
  },
  {
   "cell_type": "markdown",
   "metadata": {},
   "source": [
    "จากกราฟจะพบว่า ผู้ป่วยโควิดส่วนใหญ่จะเป็นผู้ป่วยเพศชาย"
   ]
  },
  {
   "cell_type": "code",
   "execution_count": 60,
   "metadata": {},
   "outputs": [
    {
     "data": {
      "image/png": "[encoded data removed]",
      "text/plain": [
       "<Figure size 720x432 with 1 Axes>"
      ]
     },
     "metadata": {},
     "output_type": "display_data"
    }
   ],
   "source": [
    "plt.figure(figsize=(10,6))\n",
    "sns.countplot(data = df, x= 'age_range')\n",
    "plt.xlabel(\"ช่วงอายุ\",fontsize = 15)\n",
    "plt.ylabel(\"จำนวนคน\",fontsize = 15)\n",
    "plt.title(\"จำนวนคนติดเชื้อ แยกตามช่วงอายุ\",fontdict= {'fontsize': 18, 'fontweight':'bold'}) \n",
    "plt.show()"
   ]
  },
  {
   "cell_type": "markdown",
   "metadata": {},
   "source": [
    "จากกราฟจะพบว่า ผู้ป่วยโควิดส่วนใหญ่จะอยู่ในช่วงอายุ 20-29 ปี"
   ]
  },
  {
   "cell_type": "code",
   "execution_count": 43,
   "metadata": {},
   "outputs": [
    {
     "data": {
      "image/png": "[encoded data removed]",
      "text/plain": [
       "<Figure size 720x432 with 1 Axes>"
      ]
     },
     "metadata": {},
     "output_type": "display_data"
    }
   ],
   "source": [
    "plt.figure(figsize=(10,6))\n",
    "sns.countplot(data = df, x = 'age_range', hue = 'gender')\n",
    "plt.xlabel(\"ช่วงอายุ\",fontsize = 15)\n",
    "plt.ylabel(\"จำนวนคน\",fontsize = 15)\n",
    "plt.title(\"จำนวนคนติดเชื้อ แยกตามช่วงอายุและเพศ\",fontdict= {'fontsize': 18, 'fontweight':'bold'}) \n",
    "plt.show()"
   ]
  },
  {
   "cell_type": "markdown",
   "metadata": {},
   "source": [
    "จากกราฟจะพบว่า ผู้ป่วยโควิดส่วนใหญ่ที่อยู่ในช่วงอายุ 20-29 ปี จะเป็นผู้ป่วยเพศหญิง"
   ]
  },
  {
   "cell_type": "code",
   "execution_count": 34,
   "metadata": {},
   "outputs": [
    {
     "data": {
      "text/html": [
       "<div>\n",
       "<style scoped>\n",
       "    .dataframe tbody tr th:only-of-type {\n",
       "        vertical-align: middle;\n",
       "    }\n",
       "\n",
       "    .dataframe tbody tr th {\n",
       "        vertical-align: top;\n",
       "    }\n",
       "\n",
       "    .dataframe thead th {\n",
       "        text-align: right;\n",
       "    }\n",
       "</style>\n",
       "<table border=\"1\" class=\"dataframe\">\n",
       "  <thead>\n",
       "    <tr style=\"text-align: right;\">\n",
       "      <th></th>\n",
       "      <th>risk</th>\n",
       "    </tr>\n",
       "  </thead>\n",
       "  <tbody>\n",
       "    <tr>\n",
       "      <th>สถานบันเทิง</th>\n",
       "      <td>2420</td>\n",
       "    </tr>\n",
       "    <tr>\n",
       "      <th>สัมผัสใกล้ชิดกับผู้ป่วยยืนยันรายก่อนหน้านี้</th>\n",
       "      <td>1380</td>\n",
       "    </tr>\n",
       "    <tr>\n",
       "      <th>อยู่ระหว่างการสอบสวน</th>\n",
       "      <td>427</td>\n",
       "    </tr>\n",
       "    <tr>\n",
       "      <th>ไปสถานที่ชุมชน เช่น ตลาดนัด สถานที่ท่องเที่ยว</th>\n",
       "      <td>214</td>\n",
       "    </tr>\n",
       "    <tr>\n",
       "      <th>การค้นหาผู้ป่วยเชิงรุกและค้นหาผู้ติดเชื้อในชุมชน</th>\n",
       "      <td>186</td>\n",
       "    </tr>\n",
       "    <tr>\n",
       "      <th>Cluster สมุทรสาคร</th>\n",
       "      <td>134</td>\n",
       "    </tr>\n",
       "    <tr>\n",
       "      <th>ผู้ที่เดินทางมาจากต่างประเทศ และเข้า ASQ/ALQ</th>\n",
       "      <td>66</td>\n",
       "    </tr>\n",
       "    <tr>\n",
       "      <th>State Quarantine</th>\n",
       "      <td>36</td>\n",
       "    </tr>\n",
       "    <tr>\n",
       "      <th>ไปสถานที่แออัด เช่น งานแฟร์ คอนเสิร์ต</th>\n",
       "      <td>28</td>\n",
       "    </tr>\n",
       "    <tr>\n",
       "      <th>อื่นๆ</th>\n",
       "      <td>26</td>\n",
       "    </tr>\n",
       "    <tr>\n",
       "      <th>อาชีพเสี่ยง เช่น ทำงานในสถานที่แออัด หรือทำงานใกล้ชิดสัมผัสชาวต่างชาติ เป็นต้น</th>\n",
       "      <td>23</td>\n",
       "    </tr>\n",
       "    <tr>\n",
       "      <th>ระบุไม่ได้</th>\n",
       "      <td>18</td>\n",
       "    </tr>\n",
       "    <tr>\n",
       "      <th>บุคลากรด้านการแพทย์และสาธารณสุข</th>\n",
       "      <td>17</td>\n",
       "    </tr>\n",
       "    <tr>\n",
       "      <th>ผู้ที่เดินทางมาจากต่างประเทศ และเข้า HQ/AHQ</th>\n",
       "      <td>8</td>\n",
       "    </tr>\n",
       "    <tr>\n",
       "      <th>ตรวจก่อนทำหัตถการ</th>\n",
       "      <td>7</td>\n",
       "    </tr>\n",
       "    <tr>\n",
       "      <th>สัมผัสผู้เดินทางจากต่างประเทศ</th>\n",
       "      <td>1</td>\n",
       "    </tr>\n",
       "    <tr>\n",
       "      <th>สนามมวย</th>\n",
       "      <td>1</td>\n",
       "    </tr>\n",
       "    <tr>\n",
       "      <th>สถานที่ทำงาน</th>\n",
       "      <td>1</td>\n",
       "    </tr>\n",
       "    <tr>\n",
       "      <th>ปอดอักเสบ (Pneumonia)</th>\n",
       "      <td>1</td>\n",
       "    </tr>\n",
       "  </tbody>\n",
       "</table>\n",
       "</div>"
      ],
      "text/plain": [
       "                                                    risk\n",
       "สถานบันเทิง                                         2420\n",
       "สัมผัสใกล้ชิดกับผู้ป่วยยืนยันรายก่อนหน้านี้         1380\n",
       "อยู่ระหว่างการสอบสวน                                 427\n",
       "ไปสถานที่ชุมชน เช่น ตลาดนัด สถานที่ท่องเที่ยว        214\n",
       "การค้นหาผู้ป่วยเชิงรุกและค้นหาผู้ติดเชื้อในชุมชน     186\n",
       "Cluster สมุทรสาคร                                    134\n",
       "ผู้ที่เดินทางมาจากต่างประเทศ และเข้า ASQ/ALQ          66\n",
       "State Quarantine                                      36\n",
       "ไปสถานที่แออัด เช่น งานแฟร์ คอนเสิร์ต                 28\n",
       "อื่นๆ                                                 26\n",
       "อาชีพเสี่ยง เช่น ทำงานในสถานที่แออัด หรือทำงานใ...    23\n",
       "ระบุไม่ได้                                            18\n",
       "บุคลากรด้านการแพทย์และสาธารณสุข                       17\n",
       "ผู้ที่เดินทางมาจากต่างประเทศ และเข้า HQ/AHQ            8\n",
       "ตรวจก่อนทำหัตถการ                                      7\n",
       "สัมผัสผู้เดินทางจากต่างประเทศ                          1\n",
       "สนามมวย                                                1\n",
       "สถานที่ทำงาน                                           1\n",
       "ปอดอักเสบ (Pneumonia)                                  1"
      ]
     },
     "execution_count": 34,
     "metadata": {},
     "output_type": "execute_result"
    }
   ],
   "source": [
    "df_risk = df['risk'].value_counts().to_frame()\n",
    "df_risk"
   ]
  },
  {
   "cell_type": "code",
   "execution_count": 35,
   "metadata": {},
   "outputs": [
    {
     "data": {
      "image/png": "[encoded data removed]",
      "text/plain": [
       "<Figure size 576x432 with 1 Axes>"
      ]
     },
     "metadata": {},
     "output_type": "display_data"
    }
   ],
   "source": [
    "plt.figure(figsize=(8, 6))\n",
    "sns.barplot(data=df_risk[:10], y=df_risk.index[:10], x='risk')\n",
    "plt.title(\"Risk of covid\",fontdict= {'fontsize': 18, 'fontweight':'bold'}) \n",
    "plt.xlabel(\"Risk\",fontsize = 15)\n",
    "plt.show()"
   ]
  },
  {
   "cell_type": "markdown",
   "metadata": {},
   "source": [
    "จากกราฟจะพบว่า ผู้ป่วยโควิดส่วนใหญ่มีปัจจัยเสี่ยงมาจากสถานบันเทิงมากเป็นอันดับ 1 รองลงมาจะเป็นกลุ่มผู้ป่วยที่มีการสัมผัสใกล้ชิดกับผู้ป่วยยืนยันรายก่อนหน้า"
   ]
  },
  {
   "cell_type": "code",
   "execution_count": 36,
   "metadata": {},
   "outputs": [
    {
     "data": {
      "text/html": [
       "<div>\n",
       "<style scoped>\n",
       "    .dataframe tbody tr th:only-of-type {\n",
       "        vertical-align: middle;\n",
       "    }\n",
       "\n",
       "    .dataframe tbody tr th {\n",
       "        vertical-align: top;\n",
       "    }\n",
       "\n",
       "    .dataframe thead th {\n",
       "        text-align: right;\n",
       "    }\n",
       "</style>\n",
       "<table border=\"1\" class=\"dataframe\">\n",
       "  <thead>\n",
       "    <tr style=\"text-align: right;\">\n",
       "      <th></th>\n",
       "      <th>province</th>\n",
       "    </tr>\n",
       "  </thead>\n",
       "  <tbody>\n",
       "    <tr>\n",
       "      <th>กรุงเทพมหานคร</th>\n",
       "      <td>1533</td>\n",
       "    </tr>\n",
       "    <tr>\n",
       "      <th>เชียงใหม่</th>\n",
       "      <td>720</td>\n",
       "    </tr>\n",
       "    <tr>\n",
       "      <th>ชลบุรี</th>\n",
       "      <td>511</td>\n",
       "    </tr>\n",
       "    <tr>\n",
       "      <th>สมุทรปราการ</th>\n",
       "      <td>374</td>\n",
       "    </tr>\n",
       "    <tr>\n",
       "      <th>นราธิวาส</th>\n",
       "      <td>299</td>\n",
       "    </tr>\n",
       "    <tr>\n",
       "      <th>...</th>\n",
       "      <td>...</td>\n",
       "    </tr>\n",
       "    <tr>\n",
       "      <th>ชัยนาท</th>\n",
       "      <td>2</td>\n",
       "    </tr>\n",
       "    <tr>\n",
       "      <th>มุกดาหาร</th>\n",
       "      <td>2</td>\n",
       "    </tr>\n",
       "    <tr>\n",
       "      <th>บึงกาฬ</th>\n",
       "      <td>2</td>\n",
       "    </tr>\n",
       "    <tr>\n",
       "      <th>กาฬสินธุ์</th>\n",
       "      <td>1</td>\n",
       "    </tr>\n",
       "    <tr>\n",
       "      <th>นครพนม</th>\n",
       "      <td>1</td>\n",
       "    </tr>\n",
       "  </tbody>\n",
       "</table>\n",
       "<p>74 rows × 1 columns</p>\n",
       "</div>"
      ],
      "text/plain": [
       "               province\n",
       "กรุงเทพมหานคร      1533\n",
       "เชียงใหม่           720\n",
       "ชลบุรี              511\n",
       "สมุทรปราการ         374\n",
       "นราธิวาส            299\n",
       "...                 ...\n",
       "ชัยนาท                2\n",
       "มุกดาหาร              2\n",
       "บึงกาฬ                2\n",
       "กาฬสินธุ์             1\n",
       "นครพนม                1\n",
       "\n",
       "[74 rows x 1 columns]"
      ]
     },
     "execution_count": 36,
     "metadata": {},
     "output_type": "execute_result"
    }
   ],
   "source": [
    "df_province = df['province'].value_counts().to_frame()\n",
    "df_province"
   ]
  },
  {
   "cell_type": "code",
   "execution_count": 37,
   "metadata": {},
   "outputs": [
    {
     "data": {
      "image/png": "[encoded data removed]",
      "text/plain": [
       "<Figure size 576x432 with 1 Axes>"
      ]
     },
     "metadata": {},
     "output_type": "display_data"
    }
   ],
   "source": [
    "plt.figure(figsize=(8, 6))\n",
    "sns.barplot(data=df_province[:10], y=df_province.index[:10], x='province')\n",
    "plt.title(\"จำนวนคนติดเชื้อในแต่ละจังหวัด Top 10 อันดับ\",fontdict= {'fontsize': 18, 'fontweight':'bold'}) \n",
    "plt.xlabel(\"Province\",fontsize = 15)\n",
    "plt.show()"
   ]
  },
  {
   "cell_type": "markdown",
   "metadata": {},
   "source": [
    "จากกราฟจะพบว่า ผู้ป่วยโควิดส่วนใหญ่จะเป็นกลุ่มคนที่อยู่ในจังหวัดกรุงเทพมหานคร"
   ]
  },
  {
   "cell_type": "markdown",
   "metadata": {},
   "source": [
    "#### Summary"
   ]
  },
  {
   "cell_type": "markdown",
   "metadata": {},
   "source": [
    "Question: กลุ่มผู้ป่วยโควิดระลอก 3 ตั้งแต่วันที่ 01/04/2021 ส่วนใหญ่เป็นกลุ่มคนไหน อยู่ในช่วงอายุเท่าไหร่ และมีปัจจัยเสี่ยงมาจากที่ใด\n",
    "Answer: จากการทำ Visualization พบว่าผู้ป่วยส่วนใหญ่จะเป็นเพศชาย และอยู่ในช่วงอายุ 20-29 ปี แต่ถ้าดูเฉพาะในช่วงอายุ 20-29 ปี ผู้หญิงจะเป็นมากกว่าผู้ชาย\n",
    "โดยผู้ป่วยโควิดส่วนใหญ่มีปัจจัยเสี่ยงมาจากสถานบันเทิงมากเป็นอันดับ 1 รองลงมาจะเป็นกลุ่มผู้ป่วยที่มีการสัมผัสใกล้ชิดกับผู้ป่วยยืนยันรายก่อนหน้า และมักจะเป็นกลุ่มคนที่อยู่ในจังหวัดกรุงเทพมหานคร รองลงมาก็จะเป็นจังหวัดเชียงใหม่"
   ]
  },
  {
   "cell_type": "code",
   "execution_count": null,
   "metadata": {},
   "outputs": [],
   "source": []
  }
 ],
 "metadata": {
  "kernelspec": {
   "display_name": "Python 3",
   "language": "python",
   "name": "python3"
  },
  "language_info": {
   "codemirror_mode": {
    "name": "ipython",
    "version": 3
   },
   "file_extension": ".py",
   "mimetype": "text/x-python",
   "name": "python",
   "nbconvert_exporter": "python",
   "pygments_lexer": "ipython3",
   "version": "3.7.4"
  }
 },
 "nbformat": 4,
 "nbformat_minor": 4
}
